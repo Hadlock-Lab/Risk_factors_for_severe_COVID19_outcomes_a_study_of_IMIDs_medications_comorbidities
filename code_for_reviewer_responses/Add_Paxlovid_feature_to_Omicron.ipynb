{
 "cells": [
  {
   "cell_type": "code",
   "execution_count": 0,
   "metadata": {
    "application/vnd.databricks.v1+cell": {
     "cellMetadata": {
      "byteLimit": 2048000,
      "rowLimit": 10000
     },
     "inputWidgets": {},
     "nuid": "199ce171-19fe-4333-87ed-41ff63ad65cf",
     "showTitle": true,
     "title": "Load the count cond of pts function"
    }
   },
   "outputs": [
    {
     "output_type": "stream",
     "name": "stdout",
     "output_type": "stream",
     "text": [
      "Dictionary for conditions loaded\n"
     ]
    },
    {
     "output_type": "stream",
     "name": "stdout",
     "output_type": "stream",
     "text": [
      "Dictionary for devices loaded\n"
     ]
    },
    {
     "output_type": "stream",
     "name": "stdout",
     "output_type": "stream",
     "text": [
      "Dictionary for lab results loaded\n"
     ]
    },
    {
     "output_type": "stream",
     "name": "stdout",
     "output_type": "stream",
     "text": [
      "Out[239]: 301542"
     ]
    },
    {
     "output_type": "stream",
     "name": "stdout",
     "output_type": "stream",
     "text": [
      "Dictionary for medications loaded\n"
     ]
    },
    {
     "output_type": "stream",
     "name": "stdout",
     "output_type": "stream",
     "text": [
      "Dictionary for rare diseases loaded\n"
     ]
    },
    {
     "output_type": "stream",
     "name": "stdout",
     "output_type": "stream",
     "text": [
      "Dictionary for vitals loaded\n"
     ]
    },
    {
     "output_type": "stream",
     "name": "stdout",
     "output_type": "stream",
     "text": [
      "Dictionary for antibacterials antimycotics loaded\n"
     ]
    },
    {
     "output_type": "display_data",
     "data": {
      "application/vnd.databricks.v1+bamboolib_hint": "{\"pd.DataFrames\": [], \"version\": \"0.0.1\"}",
      "text/plain": []
     },
     "metadata": {},
     "output_type": "display_data"
    },
    {
     "output_type": "stream",
     "name": "stdout",
     "output_type": "stream",
     "text": [
      "Please always confirm the version of the OMOP table you are using, check the data panel to see if there is a newer version!!!\n"
     ]
    }
   ],
   "source": [
    "%run\n",
    "\"/Users/qi.wei1@providence.org/working_folder/concept_proof_codes/add_feature_functions_test/count_meds_pts_number_active_or_alive\""
   ]
  },
  {
   "cell_type": "code",
   "execution_count": 0,
   "metadata": {
    "application/vnd.databricks.v1+cell": {
     "cellMetadata": {
      "byteLimit": 2048000,
      "rowLimit": 10000
     },
     "inputWidgets": {},
     "nuid": "c280a54c-a649-48f1-a6fb-f006d27e21b3",
     "showTitle": false,
     "title": ""
    }
   },
   "outputs": [],
   "source": [
    "## Paxlovid\n",
    "paxlovid_codes = [\n",
    "  #'2587892', # nirmatrelvir\n",
    "  #'85762', # ritonavir\n",
    "  '284640',       # lopinavir / ritonavir\n",
    "  '2587899', # Paxlovid 5-Day (EUA)\n",
    "  '2599543'  # paxlovid 150 mg /100 mg dose pack (eua)\n",
    "]"
   ]
  },
  {
   "cell_type": "code",
   "execution_count": 0,
   "metadata": {
    "application/vnd.databricks.v1+cell": {
     "cellMetadata": {
      "byteLimit": 2048000,
      "rowLimit": 10000
     },
     "inputWidgets": {},
     "nuid": "0d5e21c1-5910-4d7f-b5d5-038210349705",
     "showTitle": false,
     "title": ""
    }
   },
   "outputs": [],
   "source": [
    "# ############################################################\n",
    "# ## All needed parameters\n",
    "# ############################################################\n",
    "# ## boolean values to control if only include alive patients, if the diagnosis is first noted within X years, and control for active patient definition\n",
    "# only_instance_1k, include_only_alive, enable_active_def = True, False, False\n",
    "\n",
    "# ## start & end date, used for checking whether a patient is active or first noted within a time frame\n",
    "# ## change the start_date to control past 3 years, 5 years, or 10 years\n",
    "# start_date, end_date = \"2021-12-26\", \"2022-08-30\"\n",
    "\n",
    "# ###########################################################################\n",
    "# ## Previous omop_table_version: 2020-08-05, 2021-06-27, 2022-02-11\n",
    "# ## current omop_table_version: 2022_11_01\n",
    "# omop_table_version = \"2022_11_07\"\n",
    "\n",
    "# med_list, med_name = ['paxlovid'], 'paxlovid'\n",
    "# ### Run it using function\n",
    "# paxlovid_df = medication_searching_with_drugNames_possibleRoutes_medName(med_pts_df, med_list, med_name, include_only_alive, enable_active_def, start_date, end_date, only_instance_1k, omop_table_version)"
   ]
  },
  {
   "cell_type": "code",
   "execution_count": 0,
   "metadata": {
    "application/vnd.databricks.v1+cell": {
     "cellMetadata": {
      "byteLimit": 2048000,
      "rowLimit": 10000
     },
     "inputWidgets": {},
     "nuid": "f1d843b9-8226-45b5-a903-ab5ba4c214d5",
     "showTitle": true,
     "title": "Convert the patient id column into a list"
    }
   },
   "outputs": [],
   "source": [
    "# paxlovid_pts_list = list(paxlovid_df.select('pat_id').toPandas()['pat_id'])\n",
    "# print(len(paxlovid_pts_list))"
   ]
  },
  {
   "cell_type": "code",
   "execution_count": 0,
   "metadata": {
    "application/vnd.databricks.v1+cell": {
     "cellMetadata": {
      "byteLimit": 2048000,
      "rowLimit": 10000
     },
     "inputWidgets": {},
     "nuid": "d5f769be-f7fd-4a26-9a81-bcf88b48ff3c",
     "showTitle": true,
     "title": "Omicron Patient list"
    }
   },
   "outputs": [],
   "source": [
    "from pyspark.sql.functions import lit\n",
    "\n",
    "start_date, end_date, file_date = \"2021-12-26\", \"2022-08-30\", \"20211226_20220830_Lancet_bmi\"\n",
    "imids_cohort = spark.sql(\"\"\"SELECT * FROM rdp_phi_sandbox.qw_IMID_COVID_trainset_cond_med_vax_{}\"\"\".format(file_date))\n",
    "imids_cohort = imids_cohort.withColumn(\"instance\", lit(1000))\n",
    "# imids_training_df.limit(5).toPandas()"
   ]
  },
  {
   "cell_type": "code",
   "execution_count": 0,
   "metadata": {
    "application/vnd.databricks.v1+cell": {
     "cellMetadata": {
      "byteLimit": 2048000,
      "rowLimit": 10000
     },
     "inputWidgets": {},
     "nuid": "b3d1d08e-a864-47db-98bc-90e8d35c5ba9",
     "showTitle": true,
     "title": "Read adds medication function"
    }
   },
   "outputs": [
    {
     "output_type": "stream",
     "name": "stdout",
     "output_type": "stream",
     "text": [
      "Dictionary for conditions loaded\n"
     ]
    },
    {
     "output_type": "stream",
     "name": "stdout",
     "output_type": "stream",
     "text": [
      "Dictionary for devices loaded\n"
     ]
    },
    {
     "output_type": "stream",
     "name": "stdout",
     "output_type": "stream",
     "text": [
      "Dictionary for lab results loaded\n"
     ]
    },
    {
     "output_type": "stream",
     "name": "stdout",
     "output_type": "stream",
     "text": [
      "Out[601]: 301542"
     ]
    },
    {
     "output_type": "stream",
     "name": "stdout",
     "output_type": "stream",
     "text": [
      "Dictionary for medications loaded\n"
     ]
    },
    {
     "output_type": "stream",
     "name": "stdout",
     "output_type": "stream",
     "text": [
      "Dictionary for rare diseases loaded\n"
     ]
    },
    {
     "output_type": "stream",
     "name": "stdout",
     "output_type": "stream",
     "text": [
      "Dictionary for vitals loaded\n"
     ]
    },
    {
     "output_type": "stream",
     "name": "stdout",
     "output_type": "stream",
     "text": [
      "Dictionary for antibacterials antimycotics loaded\n"
     ]
    },
    {
     "output_type": "stream",
     "name": "stdout",
     "output_type": "stream",
     "text": [
      "Please always confirm the version of the OMOP table you are using, check the data panel to see if there is a newer version!!!\n"
     ]
    }
   ],
   "source": [
    "%run\n",
    "\"/Users/qi.wei1@providence.org/working_folder/concept_proof_codes/add_feature_functions_test/add_meds_features_prior_and_after\""
   ]
  },
  {
   "cell_type": "code",
   "execution_count": 0,
   "metadata": {
    "application/vnd.databricks.v1+cell": {
     "cellMetadata": {
      "byteLimit": 2048000,
      "rowLimit": 10000
     },
     "inputWidgets": {},
     "nuid": "9e453788-9188-49cb-8732-02a4bd5e42a8",
     "showTitle": false,
     "title": ""
    }
   },
   "outputs": [],
   "source": [
    "## define whether to filter only instance = 1000\n",
    "only_instance_1k = True\n",
    "\n",
    "##omop_table_version\n",
    "omop_table_version = \"2022_06_27\""
   ]
  },
  {
   "cell_type": "code",
   "execution_count": 0,
   "metadata": {
    "application/vnd.databricks.v1+cell": {
     "cellMetadata": {
      "byteLimit": 2048000,
      "rowLimit": 10000
     },
     "inputWidgets": {},
     "nuid": "4c9d9c64-6250-46c0-87a4-6568c1f7dae6",
     "showTitle": false,
     "title": ""
    }
   },
   "outputs": [],
   "source": [
    "## Read the table\n",
    "imids_cohort = spark.sql(\"SELECT * FROM rdp_phi_sandbox.qw_IMID_COVID_trainset_cond_med_{}\".format(file_date))\n",
    "\n",
    "## Convert the age column from double type into float format\n",
    "imids_cohort = imids_cohort.withColumn('age', imids_cohort['age'].cast( FloatType() ) )"
   ]
  },
  {
   "cell_type": "code",
   "execution_count": 0,
   "metadata": {
    "application/vnd.databricks.v1+cell": {
     "cellMetadata": {
      "byteLimit": 2048000,
      "rowLimit": 10000
     },
     "inputWidgets": {},
     "nuid": "ebbc30d2-4900-4129-8cd5-5c9118472f3c",
     "showTitle": false,
     "title": ""
    }
   },
   "outputs": [],
   "source": [
    "## 0. load the meds_pts_df from the temp view\n",
    "tmp =  spark.sql(\"\"\"select pat_id, instance, rxnormcode, medication_name, orderclass, ordermode, route, rxnormcode, medord_startdate, medord_endate from qw_med_join_table\"\"\")\n",
    "tmp = tmp.withColumnRenamed('pat_id', 'pat_id2').withColumnRenamed('instance', 'instance2')\n",
    "    \n",
    "### Directly join with the previous condition dataframe\n",
    "cond = [imids_cohort.pat_id == tmp.pat_id2, imids_cohort.instance == tmp.instance2]\n",
    "med_pts_df = imids_cohort.select(\"pat_id\", \"instance\", \"decided_index_date\").dropDuplicates().join(tmp, \n",
    "                       cond, how = \"inner\").drop(tmp.pat_id2).drop(tmp.instance2)"
   ]
  },
  {
   "cell_type": "code",
   "execution_count": 0,
   "metadata": {
    "application/vnd.databricks.v1+cell": {
     "cellMetadata": {
      "byteLimit": 2048000,
      "rowLimit": 10000
     },
     "inputWidgets": {},
     "nuid": "beca9e40-3a3f-4837-b4d8-8d779306d933",
     "showTitle": false,
     "title": ""
    }
   },
   "outputs": [
    {
     "output_type": "stream",
     "name": "stdout",
     "output_type": "stream",
     "text": [
      "No special treatment to remove codes from paxlovid now, please contact Jenn or the doctor you worked with to confirm.\nFilter to include only instance = 1000 records.\npaxlovid finished, used approx. 1 minutes\n"
     ]
    }
   ],
   "source": [
    "possible_routes = ['Oral','Intramuscular', 'Intravenous', 'Subcutaneous Infusion', 'Subcutaneous', 'Intravenous (Continuous Infusion)', 'Rectal']\n",
    "number_days_after = 14\n",
    "\n",
    "med_list, med_name = ['paxlovid'], 'paxlovid'\n",
    "imids_cohort = add_med_after_usage_with_drugNames_possibleRoutes_medName(imids_cohort, med_pts_df, med_list, possible_routes, med_name, number_days_after, only_instance_1k, omop_table_version)"
   ]
  },
  {
   "cell_type": "code",
   "execution_count": 0,
   "metadata": {
    "application/vnd.databricks.v1+cell": {
     "cellMetadata": {
      "byteLimit": 2048000,
      "rowLimit": 10000
     },
     "inputWidgets": {},
     "nuid": "086aa82b-b980-4bc5-b78a-4699e9a4f298",
     "showTitle": true,
     "title": "Check the number of patients with paxlovid within 14 days of the first infection"
    }
   },
   "outputs": [
    {
     "output_type": "stream",
     "name": "stdout",
     "output_type": "stream",
     "text": [
      "Out[723]: 146"
     ]
    }
   ],
   "source": [
    "pts_paxlovid = imids_cohort.filter(imids_cohort.after_14_days_paxlovid_logic == 1)\n",
    "pts_paxlovid.select(\"pat_id\").distinct().count()"
   ]
  },
  {
   "cell_type": "code",
   "execution_count": 0,
   "metadata": {
    "application/vnd.databricks.v1+cell": {
     "cellMetadata": {
      "byteLimit": 2048000,
      "rowLimit": 10000
     },
     "inputWidgets": {},
     "nuid": "5e849725-c8d2-4c0c-92d8-54a6d4192bd3",
     "showTitle": false,
     "title": ""
    }
   },
   "outputs": [],
   "source": [
    "pts_paxlovid_df = pts_paxlovid.select(\"pat_id\", \"after_14_days_paxlovid_logic\").dropDuplicates()\n",
    "\n",
    "spark.sql(\"\"\"DROP TABLE IF EXISTS rdp_phi_sandbox.qw_IMID_COVID_trainset_Omicron_Paxlovid_{}\"\"\".format(file_date))\n",
    "table_name = \"rdp_phi_sandbox.qw_IMID_COVID_trainset_Omicron_Paxlovid_{}\".format(file_date)\n",
    "pts_paxlovid_df.write.mode(\"overwrite\").format(\"delta\").saveAsTable(table_name)"
   ]
  },
  {
   "cell_type": "code",
   "execution_count": 0,
   "metadata": {
    "application/vnd.databricks.v1+cell": {
     "cellMetadata": {
      "byteLimit": 2048000,
      "rowLimit": 10000
     },
     "inputWidgets": {},
     "nuid": "b38420e4-a745-4536-b0a9-1e95dfcedcd0",
     "showTitle": false,
     "title": ""
    }
   },
   "outputs": [],
   "source": []
  }
 ],
 "metadata": {
  "application/vnd.databricks.v1+notebook": {
   "dashboards": [],
   "language": "python",
   "notebookMetadata": {
    "pythonIndentUnit": 2
   },
   "notebookName": "Add_Paxlovid_feature_to_Omicron",
   "widgets": {}
  }
 },
 "nbformat": 4,
 "nbformat_minor": 0
}

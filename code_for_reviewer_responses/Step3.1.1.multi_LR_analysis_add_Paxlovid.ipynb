{
 "cells": [
  {
   "cell_type": "markdown",
   "metadata": {
    "application/vnd.databricks.v1+cell": {
     "cellMetadata": {
      "byteLimit": 2048000,
      "rowLimit": 10000
     },
     "inputWidgets": {},
     "nuid": "0c2bc17f-75c9-4b8a-b1a8-8a073cff8e2c",
     "showTitle": false,
     "title": ""
    }
   },
   "source": [
    "### Notice!!! Please use search function to check all the cells with \"notice\" keywords, those are sanity checks and potential manual variable changes"
   ]
  },
  {
   "cell_type": "code",
   "execution_count": 0,
   "metadata": {
    "application/vnd.databricks.v1+cell": {
     "cellMetadata": {
      "byteLimit": 2048000,
      "rowLimit": 10000
     },
     "inputWidgets": {},
     "nuid": "f95d7ed0-8d72-451f-8413-9845198fd1f0",
     "showTitle": true,
     "title": "Notice!!! Need to check the end_date and file_date everytime"
    }
   },
   "outputs": [],
   "source": [
    "#########################################################################################################\n",
    "# Please define the target Timestamp for the end date for the generation of COVID patients dataset\n",
    "# Notice: Format: YYYY-MM-DD\n",
    "# Current set to 2021-12-10\n",
    "############################################################################################################\n",
    "# check to make sure they are consistent\n",
    "# Previous dates used:\n",
    "# 1. \"2021-12-31\", \"20211231\"\n",
    "# 2. \"2022-02-18\", \"20220218\"\n",
    "# 3. end_date, file_date = \"2021-12-25\", \"20211225\"\n",
    "# end_date, file_date = \"2021-12-21\", \"20211221\"\n",
    "\n",
    "start_date, end_date, file_date = \"2021-12-26\", \"2022-08-30\", \"20211226_20220830_Lancet_bmi\"\n",
    "# register it so can be directly used in the following SQL statement\n",
    "spark.conf.set(\"enddate.var\", end_date)"
   ]
  },
  {
   "cell_type": "code",
   "execution_count": 0,
   "metadata": {
    "application/vnd.databricks.v1+cell": {
     "cellMetadata": {
      "byteLimit": 2048000,
      "rowLimit": 10000
     },
     "inputWidgets": {},
     "nuid": "16996a15-5b9c-4242-99d9-3959fb24c30d",
     "showTitle": true,
     "title": "Install necessary packages or use python classL instance"
    }
   },
   "outputs": [],
   "source": [
    "#pip install xgboost\n",
    "#pip install joblib\n",
    "#pip install scikit-learn\n",
    "#pip install shap\n",
    "\n",
    "### Keep the follow cell empty can copy all the install commands and run them one by one"
   ]
  },
  {
   "cell_type": "code",
   "execution_count": 0,
   "metadata": {
    "application/vnd.databricks.v1+cell": {
     "cellMetadata": {
      "byteLimit": 2048000,
      "rowLimit": 10000
     },
     "inputWidgets": {},
     "nuid": "0e1dddf9-c789-4350-a689-8f5f1dae00ee",
     "showTitle": true,
     "title": "Copy from above and run here one by one"
    }
   },
   "outputs": [],
   "source": []
  },
  {
   "cell_type": "code",
   "execution_count": 0,
   "metadata": {
    "application/vnd.databricks.v1+cell": {
     "cellMetadata": {
      "byteLimit": 2048000,
      "rowLimit": 10000
     },
     "inputWidgets": {},
     "nuid": "0a11a334-6f4a-440b-8f44-af603258bc8a",
     "showTitle": true,
     "title": "Import needed python packages"
    }
   },
   "outputs": [
    {
     "output_type": "display_data",
     "data": {
      "application/vnd.databricks.v1+bamboolib_hint": "{\"pd.DataFrames\": [], \"version\": \"0.0.1\"}",
      "text/plain": []
     },
     "metadata": {},
     "output_type": "display_data"
    },
    {
     "output_type": "stream",
     "name": "stderr",
     "output_type": "stream",
     "text": [
      "/local_disk0/.ephemeral_nfs/cluster_libraries/python/lib/python3.9/site-packages/shap/utils/_clustering.py:35: NumbaDeprecationWarning: The 'nopython' keyword argument was not supplied to the 'numba.jit' decorator. The implicit default value for this argument is currently False, but it will be changed to True in Numba 0.59.0. See https://numba.readthedocs.io/en/stable/reference/deprecation.html#deprecation-of-object-mode-fall-back-behaviour-when-using-jit for details.\n  def _pt_shuffle_rec(i, indexes, index_mask, partition_tree, M, pos):\n/local_disk0/.ephemeral_nfs/cluster_libraries/python/lib/python3.9/site-packages/shap/utils/_clustering.py:54: NumbaDeprecationWarning: The 'nopython' keyword argument was not supplied to the 'numba.jit' decorator. The implicit default value for this argument is currently False, but it will be changed to True in Numba 0.59.0. See https://numba.readthedocs.io/en/stable/reference/deprecation.html#deprecation-of-object-mode-fall-back-behaviour-when-using-jit for details.\n  def delta_minimization_order(all_masks, max_swap_size=100, num_passes=2):\n/local_disk0/.ephemeral_nfs/cluster_libraries/python/lib/python3.9/site-packages/shap/utils/_clustering.py:63: NumbaDeprecationWarning: The 'nopython' keyword argument was not supplied to the 'numba.jit' decorator. The implicit default value for this argument is currently False, but it will be changed to True in Numba 0.59.0. See https://numba.readthedocs.io/en/stable/reference/deprecation.html#deprecation-of-object-mode-fall-back-behaviour-when-using-jit for details.\n  def _reverse_window(order, start, length):\n/local_disk0/.ephemeral_nfs/cluster_libraries/python/lib/python3.9/site-packages/shap/utils/_clustering.py:69: NumbaDeprecationWarning: The 'nopython' keyword argument was not supplied to the 'numba.jit' decorator. The implicit default value for this argument is currently False, but it will be changed to True in Numba 0.59.0. See https://numba.readthedocs.io/en/stable/reference/deprecation.html#deprecation-of-object-mode-fall-back-behaviour-when-using-jit for details.\n  def _reverse_window_score_gain(masks, order, start, length):\n/local_disk0/.ephemeral_nfs/cluster_libraries/python/lib/python3.9/site-packages/shap/utils/_clustering.py:77: NumbaDeprecationWarning: The 'nopython' keyword argument was not supplied to the 'numba.jit' decorator. The implicit default value for this argument is currently False, but it will be changed to True in Numba 0.59.0. See https://numba.readthedocs.io/en/stable/reference/deprecation.html#deprecation-of-object-mode-fall-back-behaviour-when-using-jit for details.\n  def _mask_delta_score(m1, m2):\n/local_disk0/.ephemeral_nfs/cluster_libraries/python/lib/python3.9/site-packages/shap/links.py:5: NumbaDeprecationWarning: The 'nopython' keyword argument was not supplied to the 'numba.jit' decorator. The implicit default value for this argument is currently False, but it will be changed to True in Numba 0.59.0. See https://numba.readthedocs.io/en/stable/reference/deprecation.html#deprecation-of-object-mode-fall-back-behaviour-when-using-jit for details.\n  def identity(x):\n/local_disk0/.ephemeral_nfs/cluster_libraries/python/lib/python3.9/site-packages/shap/links.py:10: NumbaDeprecationWarning: The 'nopython' keyword argument was not supplied to the 'numba.jit' decorator. The implicit default value for this argument is currently False, but it will be changed to True in Numba 0.59.0. See https://numba.readthedocs.io/en/stable/reference/deprecation.html#deprecation-of-object-mode-fall-back-behaviour-when-using-jit for details.\n  def _identity_inverse(x):\n/local_disk0/.ephemeral_nfs/cluster_libraries/python/lib/python3.9/site-packages/shap/links.py:15: NumbaDeprecationWarning: The 'nopython' keyword argument was not supplied to the 'numba.jit' decorator. The implicit default value for this argument is currently False, but it will be changed to True in Numba 0.59.0. See https://numba.readthedocs.io/en/stable/reference/deprecation.html#deprecation-of-object-mode-fall-back-behaviour-when-using-jit for details.\n  def logit(x):\n/local_disk0/.ephemeral_nfs/cluster_libraries/python/lib/python3.9/site-packages/shap/links.py:20: NumbaDeprecationWarning: The 'nopython' keyword argument was not supplied to the 'numba.jit' decorator. The implicit default value for this argument is currently False, but it will be changed to True in Numba 0.59.0. See https://numba.readthedocs.io/en/stable/reference/deprecation.html#deprecation-of-object-mode-fall-back-behaviour-when-using-jit for details.\n  def _logit_inverse(x):\n/local_disk0/.ephemeral_nfs/cluster_libraries/python/lib/python3.9/site-packages/shap/utils/_masked_model.py:363: NumbaDeprecationWarning: The 'nopython' keyword argument was not supplied to the 'numba.jit' decorator. The implicit default value for this argument is currently False, but it will be changed to True in Numba 0.59.0. See https://numba.readthedocs.io/en/stable/reference/deprecation.html#deprecation-of-object-mode-fall-back-behaviour-when-using-jit for details.\n  def _build_fixed_single_output(averaged_outs, last_outs, outputs, batch_positions, varying_rows, num_varying_rows, link, linearizing_weights):\n/local_disk0/.ephemeral_nfs/cluster_libraries/python/lib/python3.9/site-packages/shap/utils/_masked_model.py:385: NumbaDeprecationWarning: The 'nopython' keyword argument was not supplied to the 'numba.jit' decorator. The implicit default value for this argument is currently False, but it will be changed to True in Numba 0.59.0. See https://numba.readthedocs.io/en/stable/reference/deprecation.html#deprecation-of-object-mode-fall-back-behaviour-when-using-jit for details.\n  def _build_fixed_multi_output(averaged_outs, last_outs, outputs, batch_positions, varying_rows, num_varying_rows, link, linearizing_weights):\n/local_disk0/.ephemeral_nfs/cluster_libraries/python/lib/python3.9/site-packages/shap/utils/_masked_model.py:428: NumbaDeprecationWarning: The 'nopython' keyword argument was not supplied to the 'numba.jit' decorator. The implicit default value for this argument is currently False, but it will be changed to True in Numba 0.59.0. See https://numba.readthedocs.io/en/stable/reference/deprecation.html#deprecation-of-object-mode-fall-back-behaviour-when-using-jit for details.\n  def _init_masks(cluster_matrix, M, indices_row_pos, indptr):\n/local_disk0/.ephemeral_nfs/cluster_libraries/python/lib/python3.9/site-packages/shap/utils/_masked_model.py:439: NumbaDeprecationWarning: The 'nopython' keyword argument was not supplied to the 'numba.jit' decorator. The implicit default value for this argument is currently False, but it will be changed to True in Numba 0.59.0. See https://numba.readthedocs.io/en/stable/reference/deprecation.html#deprecation-of-object-mode-fall-back-behaviour-when-using-jit for details.\n  def _rec_fill_masks(cluster_matrix, indices_row_pos, indptr, indices, M, ind):\n/local_disk0/.ephemeral_nfs/cluster_libraries/python/lib/python3.9/site-packages/shap/maskers/_tabular.py:186: NumbaDeprecationWarning: The 'nopython' keyword argument was not supplied to the 'numba.jit' decorator. The implicit default value for this argument is currently False, but it will be changed to True in Numba 0.59.0. See https://numba.readthedocs.io/en/stable/reference/deprecation.html#deprecation-of-object-mode-fall-back-behaviour-when-using-jit for details.\n  def _single_delta_mask(dind, masked_inputs, last_mask, data, x, noop_code):\n/local_disk0/.ephemeral_nfs/cluster_libraries/python/lib/python3.9/site-packages/shap/maskers/_tabular.py:197: NumbaDeprecationWarning: The 'nopython' keyword argument was not supplied to the 'numba.jit' decorator. The implicit default value for this argument is currently False, but it will be changed to True in Numba 0.59.0. See https://numba.readthedocs.io/en/stable/reference/deprecation.html#deprecation-of-object-mode-fall-back-behaviour-when-using-jit for details.\n  def _delta_masking(masks, x, curr_delta_inds, varying_rows_out,\n/local_disk0/.ephemeral_nfs/cluster_libraries/python/lib/python3.9/site-packages/shap/maskers/_image.py:175: NumbaDeprecationWarning: The 'nopython' keyword argument was not supplied to the 'numba.jit' decorator. The implicit default value for this argument is currently False, but it will be changed to True in Numba 0.59.0. See https://numba.readthedocs.io/en/stable/reference/deprecation.html#deprecation-of-object-mode-fall-back-behaviour-when-using-jit for details.\n  def _jit_build_partition_tree(xmin, xmax, ymin, ymax, zmin, zmax, total_ywidth, total_zwidth, M, clustering, q):\n/local_disk0/.ephemeral_nfs/cluster_libraries/python/lib/python3.9/site-packages/shap/explainers/_partition.py:676: NumbaDeprecationWarning: The 'nopython' keyword argument was not supplied to the 'numba.jit' decorator. The implicit default value for this argument is currently False, but it will be changed to True in Numba 0.59.0. See https://numba.readthedocs.io/en/stable/reference/deprecation.html#deprecation-of-object-mode-fall-back-behaviour-when-using-jit for details.\n  def lower_credit(i, value, M, values, clustering):\nThe 'nopython' keyword argument was not supplied to the 'numba.jit' decorator. The implicit default value for this argument is currently False, but it will be changed to True in Numba 0.59.0. See https://numba.readthedocs.io/en/stable/reference/deprecation.html#deprecation-of-object-mode-fall-back-behaviour-when-using-jit for details.\nThe 'nopython' keyword argument was not supplied to the 'numba.jit' decorator. The implicit default value for this argument is currently False, but it will be changed to True in Numba 0.59.0. See https://numba.readthedocs.io/en/stable/reference/deprecation.html#deprecation-of-object-mode-fall-back-behaviour-when-using-jit for details.\n"
     ]
    }
   ],
   "source": [
    "import numpy as np\n",
    "import pandas as pd\n",
    "import shap\n",
    "\n",
    "## Scikit-learn related\n",
    "from sklearn.metrics import confusion_matrix\n",
    "from sklearn.model_selection import train_test_split\n",
    "from sklearn.model_selection import cross_val_score\n",
    "\n",
    "from sklearn.preprocessing import MultiLabelBinarizer\n",
    "# from sklearn.linear_model import SGDClassifier\n",
    "# from sklearn.neural_network import MLPClassifier\n",
    "from sklearn import tree\n",
    "from sklearn.ensemble import BaggingClassifier\n",
    "\n",
    "from xgboost import XGBClassifier\n",
    "from sklearn.linear_model import LogisticRegression\n",
    "# from sklearn.neighbors import KNeighborsClassifier\n",
    "## from sklearn import cross_validation, metrics   #Additional scklearn functions, deprecated since version 0.18\n",
    "## from sklearn.grid_search import GridSearchCV   #!!!the grid search package that has issue, dont use it\n",
    "from sklearn.model_selection import GridSearchCV\n",
    "from sklearn.svm import SVC\n",
    "\n",
    "from sklearn.metrics import roc_curve, auc, accuracy_score\n",
    "from sklearn.model_selection import train_test_split\n",
    "from sklearn.preprocessing import label_binarize\n",
    "from sklearn.preprocessing import LabelBinarizer\n",
    "from sklearn.multiclass import OneVsRestClassifier\n",
    "from sklearn.multiclass import OneVsOneClassifier\n",
    "from scipy import interp\n",
    "from scipy import stats\n",
    "\n",
    "from sklearn.model_selection import cross_val_predict\n",
    "from sklearn.model_selection import StratifiedKFold\n",
    "from sklearn import preprocessing\n",
    "\n",
    "########################################\n",
    "## Import those from pyspark.ml\n",
    "import pyspark.ml\n",
    "import pyspark.sql.functions as F"
   ]
  },
  {
   "cell_type": "code",
   "execution_count": 0,
   "metadata": {
    "application/vnd.databricks.v1+cell": {
     "cellMetadata": {
      "byteLimit": 2048000,
      "rowLimit": 10000
     },
     "inputWidgets": {},
     "nuid": "1ad2a350-d3c4-4176-8620-77560ed8d0b6",
     "showTitle": true,
     "title": "Read the file into a pyspark dataframe"
    }
   },
   "outputs": [],
   "source": [
    "imids_training_df = spark.sql(\"\"\"SELECT * FROM rdp_phi_sandbox.qw_IMID_COVID_trainset_cond_med_vax_{}\"\"\".format(file_date)) \n",
    "# imids_training_df.limit(5).toPandas()"
   ]
  },
  {
   "cell_type": "code",
   "execution_count": 0,
   "metadata": {
    "application/vnd.databricks.v1+cell": {
     "cellMetadata": {
      "byteLimit": 2048000,
      "rowLimit": 10000
     },
     "inputWidgets": {},
     "nuid": "d0642bec-2970-468f-9256-6d22a99ebdf1",
     "showTitle": true,
     "title": "Add information of the paxlovid patients"
    }
   },
   "outputs": [],
   "source": [
    "## Read paxlovid patient cohort\n",
    "pts_paxlovid_df = spark.sql(\"\"\"SELECT * FROM rdp_phi_sandbox.qw_IMID_COVID_trainset_Omicron_Paxlovid_{}\"\"\".format(file_date))\n",
    "## Innere join to get the column of paxlovid\n",
    "\n",
    "imids_training_df = imids_training_df.join(pts_paxlovid_df, imids_training_df.pat_id ==  pts_paxlovid_df.pat_id, \"left\").fillna(0).drop(pts_paxlovid_df.pat_id)"
   ]
  },
  {
   "cell_type": "code",
   "execution_count": 0,
   "metadata": {
    "application/vnd.databricks.v1+cell": {
     "cellMetadata": {
      "byteLimit": 2048000,
      "rowLimit": 10000
     },
     "inputWidgets": {},
     "nuid": "e26c9b93-b5d9-4ba0-b7d3-9c25ea7bd202",
     "showTitle": true,
     "title": "Temp solution, for some reason there are duplicated records for the same patient"
    }
   },
   "outputs": [],
   "source": [
    "imids_training_df = imids_training_df.dropDuplicates()\n",
    "# imids_training_df.limit(5).toPandas()"
   ]
  },
  {
   "cell_type": "code",
   "execution_count": 0,
   "metadata": {
    "application/vnd.databricks.v1+cell": {
     "cellMetadata": {
      "byteLimit": 2048000,
      "rowLimit": 10000
     },
     "inputWidgets": {},
     "nuid": "a8969ad8-e0d7-4911-b441-f174ad1b5835",
     "showTitle": true,
     "title": "Drop not needed columns, rearrange them, then rename them"
    }
   },
   "outputs": [],
   "source": [
    "## Drop not used columns\n",
    "col_to_drop = ('age_range', 'ethnicity', 'race1', 'race_v2', 'ethnicity_race', 'CVX_name', 'decided_index_date', 'CVX_name')\n",
    "imids_training_df = imids_training_df.drop(*col_to_drop)\n",
    "\n",
    "## rename IMIDs drugs columns\n",
    "imids_training_df = imids_training_df.withColumnRenamed('prior_91_days_hydroxychloroquine_logic', 'hydroxychloroquine').withColumnRenamed('prior_91_days_methotrexate_logic', 'methotrexate')\\\n",
    ".withColumnRenamed('prior_91_days_leflunomide_teriflunomide_logic', 'leflunomide_teriflunomide').withColumnRenamed('prior_91_days_5_ASAa_logic', '5_ASA')\\\n",
    ".withColumnRenamed('prior_91_days_azathioprine_logic', 'azathioprine').withColumnRenamed('prior_91_days_mercaptopurine_logic', 'mercaptopurine')\\\n",
    ".withColumnRenamed('prior_91_days_mitoxantrone_logic', 'mitoxantrone')\\\n",
    ".withColumnRenamed('prior_91_days_mycophenolate_logic', 'mycophenolate').withColumnRenamed('prior_91_days_calcineurin_inhibitor_logic', 'calcineurin_inhibitor')\\\n",
    ".withColumnRenamed('prior_91_days_TNF_alpha_inhibitor_logic', 'TNF_alpha_inhibitor').withColumnRenamed('prior_91_days_fumarates_logic', 'fumarates')\\\n",
    ".withColumnRenamed('prior_91_days_interferons_logic', 'interferons').withColumnRenamed('prior_91_days_alkylating_agent_logic', 'alkylating_agent')\\\n",
    ".withColumnRenamed('prior_91_days_hydroxyurea_logic', 'hydroxyurea').withColumnRenamed('prior_91_days_dapsone_logic', 'dapsone')\\\n",
    ".withColumnRenamed('prior_91_days_cladribine_logic', 'cladribine').withColumnRenamed('prior_91_days_IL1_inhibitor_logic', 'IL1_inhibitor')\\\n",
    ".withColumnRenamed('prior_91_days_IL6_inhibitor_logic', 'IL6_inhibitor').withColumnRenamed('prior_91_days_IL12_23_inhibitor_logic', 'IL12_23_inhibitor')\\\n",
    ".withColumnRenamed('prior_91_days_IL17_inhibitor_logic', 'IL17_inhibitor')\\\n",
    ".withColumnRenamed('prior_91_days_IL23_inhibitor_logic', 'IL23_inhibitor')\\\n",
    ".withColumnRenamed('prior_91_days_abatacept_logic', 'abatacept').withColumnRenamed('prior_91_days_anti_BLyS_logic', 'anti_BLyS')\\\n",
    ".withColumnRenamed('prior_91_days_S1P_receptor_modulator_logic', 'S1P_receptor_modulator').withColumnRenamed('prior_91_days_JAK_inhibitor_logic', 'JAK_inhibitor')\\\n",
    ".withColumnRenamed('prior_91_days_integrin_inhibitor_logic', 'integrin_inhibitor').withColumnRenamed('prior_91_days_PDE4i_targeted_synthetic_logic', 'PDE4i_targeted_synthetic')\\\n",
    ".withColumnRenamed('prior_91_days_anti_CD20_logic', 'anti_CD20').withColumnRenamed('prior_91_days_anti_CD52_logic', 'anti_CD52')\\\n",
    ".withColumnRenamed('prior_91_days_budesonide_logic', 'budesonide').withColumnRenamed('prior_91_days_systemic_glucocorticoids_logic', 'systemic_glucocorticoids')\\\n",
    ".withColumnRenamed('after_10_days_monoclonal_antibody_covid_19_logic', 'monoclonal_antibody_covid_19')\\\n",
    ".withColumnRenamed('after_14_days_paxlovid_logic', 'paxlovid')"
   ]
  },
  {
   "cell_type": "code",
   "execution_count": 0,
   "metadata": {
    "application/vnd.databricks.v1+cell": {
     "cellMetadata": {
      "byteLimit": 2048000,
      "rowLimit": 10000
     },
     "inputWidgets": {},
     "nuid": "3db3106b-86ab-40c5-93ae-138f4d3431ca",
     "showTitle": true,
     "title": "Filter the positive patient here"
    }
   },
   "outputs": [],
   "source": [
    "## Temp solution, filter the positive patient here\n",
    "pos_df = imids_training_df.filter(imids_training_df['results'] == \"Positive\")\n",
    "\n",
    "## convert to pandas dataframe\n",
    "# imids_training_pd_df = imids_training_onlyPos_df.toPandas()\n",
    " \n",
    "## col names before dropping any\n",
    "# list(imids_training_pd_df.columns)"
   ]
  },
  {
   "cell_type": "code",
   "execution_count": 0,
   "metadata": {
    "application/vnd.databricks.v1+cell": {
     "cellMetadata": {
      "byteLimit": 2048000,
      "rowLimit": 10000
     },
     "inputWidgets": {},
     "nuid": "9a0fefb1-869d-4386-97d4-f54261844489",
     "showTitle": true,
     "title": "Dummy one-hot encode those categorical features"
    }
   },
   "outputs": [],
   "source": [
    "## One hot-encode sex\n",
    "categ = pos_df.select('sex').distinct().rdd.flatMap(lambda x:x).collect()\n",
    "exprs = [F.when(F.col('sex') == cat,1).otherwise(0)\\\n",
    "            .alias(str(\"sex_\" + cat)) for cat in categ]\n",
    "pos_one_hot_df = pos_df.select(pos_df.columns + exprs)\n",
    "\n",
    "## Fill none values in the vaccination column\n",
    "pos_one_hot_df = pos_one_hot_df.fillna({'Vaccination_status':'Not'})\n",
    "\n",
    "## One hot-encode vaccination\n",
    "categ = pos_one_hot_df.select('Vaccination_status').distinct().rdd.flatMap(lambda x:x).collect()\n",
    "exprs = [F.when(F.col('Vaccination_status') == cat,1).otherwise(0)\\\n",
    "            .alias(str(\"vaccination_\" + cat)) for cat in categ]\n",
    "pos_one_hot_df = pos_one_hot_df.select(pos_one_hot_df.columns + exprs)\n",
    "\n",
    "## Drop not needed cols and original cols\n",
    "pos_one_hot_df = pos_one_hot_df.drop(\"sex\").drop(\"sex_Female\").drop(\"sex_Unknown\").drop(\"Vaccination_status\").drop(\"vaccination_Not\")\n",
    "\n",
    "## change the name of those vaccination related columns\n",
    "pos_one_hot_df = pos_one_hot_df.withColumnRenamed('vaccination_Fully', 'fully_vaccinated').withColumnRenamed('vaccination_Booster', 'boosted')"
   ]
  },
  {
   "cell_type": "code",
   "execution_count": 0,
   "metadata": {
    "application/vnd.databricks.v1+cell": {
     "cellMetadata": {
      "byteLimit": 2048000,
      "rowLimit": 10000
     },
     "inputWidgets": {},
     "nuid": "3565aa47-ebed-4cc2-9a77-e4d58c35a376",
     "showTitle": true,
     "title": "Use min-max to normalize those continues features (need to do it after train/test split)"
    }
   },
   "outputs": [],
   "source": [
    "# ## Manually define the min max process\n",
    "# from pyspark.sql.functions import max, min, mean, col\n",
    "\n",
    "# max_age, min_age = pos_one_hot_df.select(max(\"age\"), min(\"age\")).first()\n",
    "# pos_one_hot_minmax_df = pos_one_hot_df.withColumn(\"age_normalized\", (col(\"age\") - min_age) / (max_age - min_age) )\n",
    "# pos_one_hot_minmax_df = pos_one_hot_minmax_df.drop(\"age\")"
   ]
  },
  {
   "cell_type": "code",
   "execution_count": 0,
   "metadata": {
    "application/vnd.databricks.v1+cell": {
     "cellMetadata": {
      "byteLimit": 2048000,
      "rowLimit": 10000
     },
     "inputWidgets": {},
     "nuid": "36905c56-310d-429a-9700-c4710adfa7d6",
     "showTitle": true,
     "title": "Excluding patients on monoclonal antibody"
    }
   },
   "outputs": [],
   "source": [
    "# ## get the data where monoclonal_antibody_covid_19 = 0\n",
    "# pos_one_hot_noAntibody_df = pos_one_hot_df.where(pos_one_hot_df.monoclonal_antibody_covid_19 == 0)"
   ]
  },
  {
   "cell_type": "code",
   "execution_count": 0,
   "metadata": {
    "application/vnd.databricks.v1+cell": {
     "cellMetadata": {
      "byteLimit": 2048000,
      "rowLimit": 10000
     },
     "inputWidgets": {},
     "nuid": "d05d074e-0435-4932-841a-b62b2c30ffc7",
     "showTitle": true,
     "title": "Rearrange columns and set index for pyspark df"
    }
   },
   "outputs": [],
   "source": [
    "train_df = pos_one_hot_df.select(\"*\")\n",
    "train_df = train_df.drop(\"pat_id\").drop(\"results\")\n",
    "\n",
    "## Drop SVI and geocoding features due to high missing percentage\n",
    "## list: 'SVI_Socioeconomic', 'SVI_Household_Composition_Disability', 'SVI_Minority_Status_Language', 'SVI_Housing_Type_Transportation', 'SVI', 'Metro_area', 'Low_education', 'Low_employment',\n",
    "## not including 'obesity'\n",
    "\n",
    "train_df = train_df.select('patient_id', 'hospitalized_after_positive','IMV_after_positive','death_after_positive',\n",
    "  'age', 'BMI', 'sex_Male',\n",
    "  'hypertension', 'diabetes_type1and2', 'atrial_fibrillation', 'coronary_artery_disease', 'heart_failure', 'chronic_kidney_disease', 'copd', 'chronic_liver_disease', 'malignant_neoplastic_disease', 'HIV', 'history_transplant', 'stroke', 'opioid_dependence', 'fully_vaccinated', 'boosted', 'asthma', \n",
    " 'ibd', 'rheumatoid_arthritis', 'multiple_sclerosis','psoriatic_arthritis', 'psoriasis', 'systemic_sclerosis', 'spondyloarthritis', 'systemic_lupus', 'vasculitis', 'sarcoidosis', 'APS', 'sjogren_syndrome',\n",
    " 'hydroxychloroquine',\n",
    " 'methotrexate',\n",
    " 'leflunomide_teriflunomide',\n",
    " '5_ASA',\n",
    " 'azathioprine',\n",
    " 'mercaptopurine',\n",
    " 'mitoxantrone',\n",
    " 'mycophenolate',\n",
    " 'calcineurin_inhibitor',\n",
    " 'TNF_alpha_inhibitor',\n",
    " 'fumarates',\n",
    " 'interferons',\n",
    " 'alkylating_agent',\n",
    " 'hydroxyurea',\n",
    " 'dapsone',\n",
    " 'cladribine',\n",
    " 'IL1_inhibitor',\n",
    " 'IL6_inhibitor',\n",
    " 'IL12_23_inhibitor',\n",
    " 'IL17_inhibitor',\n",
    " 'IL23_inhibitor',\n",
    " 'abatacept',\n",
    " 'anti_BLyS',\n",
    " 'S1P_receptor_modulator',\n",
    " 'JAK_inhibitor',\n",
    " 'integrin_inhibitor',\n",
    " 'PDE4i_targeted_synthetic',\n",
    " 'anti_CD20',\n",
    " 'anti_CD52',\n",
    " 'budesonide',\n",
    " 'systemic_glucocorticoids',\n",
    " 'monoclonal_antibody_covid_19',\n",
    " 'paxlovid')"
   ]
  },
  {
   "cell_type": "code",
   "execution_count": 0,
   "metadata": {
    "application/vnd.databricks.v1+cell": {
     "cellMetadata": {
      "byteLimit": 2048000,
      "rowLimit": 10000
     },
     "inputWidgets": {},
     "nuid": "6536e59f-5d73-4202-a35d-1e725fa4a7b3",
     "showTitle": true,
     "title": "Convert to pandas df and set index"
    }
   },
   "outputs": [],
   "source": [
    "train_pd_df = train_df.toPandas()\n",
    "## change the patient id col to be the index of the training data\n",
    "train_pd_df = train_pd_df.set_index(\"patient_id\")\n",
    "# display(train_pd_df)"
   ]
  },
  {
   "cell_type": "markdown",
   "metadata": {
    "application/vnd.databricks.v1+cell": {
     "cellMetadata": {
      "byteLimit": 2048000,
      "rowLimit": 10000
     },
     "inputWidgets": {},
     "nuid": "42495b42-474c-41fc-9153-e81a90918ace",
     "showTitle": false,
     "title": ""
    }
   },
   "source": [
    "## Training data preprocessing and test data split\n",
    "* Assign features for training data to X\n",
    "* Assign response to Y\n",
    "* Define the number of CV & random seed used for tuning"
   ]
  },
  {
   "cell_type": "code",
   "execution_count": 0,
   "metadata": {
    "application/vnd.databricks.v1+cell": {
     "cellMetadata": {
      "byteLimit": 2048000,
      "rowLimit": 10000
     },
     "inputWidgets": {},
     "nuid": "08063a68-1684-4cce-9a4e-2ddc7fd5e4b2",
     "showTitle": true,
     "title": "Save a backup of the training dataset for this run"
    }
   },
   "outputs": [],
   "source": [
    "# ### Uncomment to save table as backup for publications\n",
    "# spark.sql(\"\"\"DROP TABLE IF EXISTS rdp_phi_sandbox.qw_IMIDs_COVID_paper_train_data_processed_{}\"\"\".format(file_date))\n",
    "# table_name = \"rdp_phi_sandbox.qw_IMIDs_COVID_paper_train_data_processed_{}\".format(file_date)\n",
    "# ## Convert into Spark DataFrame\n",
    "# spark_df_one_hot_encoded = spark.createDataFrame(df_one_hot_encoded)\n",
    "\n",
    "# ## Write the table\n",
    "# # spark_df_one_hot_encoded.write.mode(\"overwrite\").saveAsTable(table_name)"
   ]
  },
  {
   "cell_type": "code",
   "execution_count": 0,
   "metadata": {
    "application/vnd.databricks.v1+cell": {
     "cellMetadata": {
      "byteLimit": 2048000,
      "rowLimit": 10000
     },
     "inputWidgets": {},
     "nuid": "654431d2-507b-4db8-b157-48a4c573115d",
     "showTitle": true,
     "title": "Define helper functions"
    }
   },
   "outputs": [],
   "source": [
    "#######################################################\n",
    "#Random search CV method\n",
    "#and\n",
    "#Multi class roc_auc score method\n",
    "########################################################\n",
    "from scipy.stats import randint\n",
    "from sklearn.model_selection import RandomizedSearchCV\n",
    "from time import time\n",
    "from sklearn.model_selection import StratifiedKFold\n",
    "from sklearn.preprocessing import LabelBinarizer\n",
    "from sklearn.metrics import make_scorer, roc_auc_score\n",
    "\n",
    "###############################################################################################\n",
    "#Binary class roc auc score method\n",
    "#input: y_true, true labels from test fold\n",
    "#       y_score, predicted probability on test fold\n",
    "#       average, string, [None, ‘micro’, ‘macro’ (default), ‘samples’, ‘weighted’]\n",
    "#                'macro': Calculate metrics for each label, and find their unweighted mean. \n",
    "#                This does not take label imbalance into account.\n",
    "#                'weighted': Calculate metrics for each label, and find their average, \n",
    "#                weighted by support (the number of true instances for each label).\n",
    "#output: auroc value for each class\n",
    "#############################################################################################\n",
    "def binary_class_roc_auc_score(y_true, y_score, average=\"weighted\"):\n",
    "\n",
    "    return roc_auc_score(y_true, y_score, average=average)\n",
    "\n",
    "binaryclass_score = make_scorer(binary_class_roc_auc_score, needs_threshold = True)"
   ]
  },
  {
   "cell_type": "code",
   "execution_count": 0,
   "metadata": {
    "application/vnd.databricks.v1+cell": {
     "cellMetadata": {
      "byteLimit": 2048000,
      "rowLimit": 10000
     },
     "inputWidgets": {},
     "nuid": "2673dd0e-8e87-4baa-b37f-c89e2ff2f921",
     "showTitle": true,
     "title": "Pandas df change col names"
    }
   },
   "outputs": [],
   "source": [
    "## not including: , 'obesity'\n",
    "train_pd_df.columns = ['hospitalized_after_positive', 'IMV_after_positive', 'death_after_positive', 'age', 'BMI', 'sex:male', 'hypertension', 'diabetes (type 1+2)', 'atrial fibrillation', 'coronary artery disease', 'heart failure', 'chronic kidney disease', 'COPD', 'chronic liver disease', 'malignant neoplastic disease', 'HIV', 'history of transplant', 'stroke', 'opioid dependence', 'fully vaccinated', 'boosted', 'asthma',\n",
    " 'inflammatory bowel disease', 'rheumatoid arthritis', 'multiple sclerosis','psoriatic arthritis', 'psoriasis', 'systemic sclerosis', 'spondyloarthritis', 'systemic lupus', 'vasculitis', 'sarcoidosis', 'antiphospholipid syndrome', 'Sjögren syndrome',\n",
    " 'hydroxychloroquine',\n",
    " 'methotrexate',\n",
    " 'leflunomide teriflunomide',\n",
    " '5-ASA',\n",
    " 'azathioprine',\n",
    " 'mercaptopurine',\n",
    " 'mitoxantrone',\n",
    " 'mycophenolate',\n",
    " 'calcineurin inhibitor',\n",
    " 'TNF-α inhibitor',\n",
    " 'fumarates',\n",
    " 'interferons',\n",
    " 'alkylating agent',\n",
    " 'hydroxyurea',\n",
    " 'dapsone',\n",
    " 'cladribine',\n",
    " 'IL-1 inhibitor',\n",
    " 'IL-6 inhibitor',\n",
    " 'IL-12/23 inhibitor',\n",
    " 'IL-17 inhibitor',\n",
    " 'IL-23 inhibitor',\n",
    " 'abatacept',\n",
    " 'anti-BLyS',\n",
    " 'S1P receptor modulator',\n",
    " 'JAK inhibitor',\n",
    " 'integrin inhibitor',\n",
    " 'PDE4i targeted synthetic',\n",
    " 'anti-CD20',\n",
    " 'anti-CD52',\n",
    " 'budesonide',\n",
    " 'systemic glucocorticoids', 'monoclonal antibody covid-19', 'paxlovid']"
   ]
  },
  {
   "cell_type": "code",
   "execution_count": 0,
   "metadata": {
    "application/vnd.databricks.v1+cell": {
     "cellMetadata": {
      "byteLimit": 2048000,
      "rowLimit": 10000
     },
     "inputWidgets": {},
     "nuid": "fdcc8b55-c7fe-4bf0-8c50-b2f6fa476cae",
     "showTitle": true,
     "title": "Check and filter out Null rows"
    }
   },
   "outputs": [
    {
     "output_type": "display_data",
     "data": {
      "text/html": [
       "<style scoped>\n",
       "  .table-result-container {\n",
       "    max-height: 300px;\n",
       "    overflow: auto;\n",
       "  }\n",
       "  table, th, td {\n",
       "    border: 1px solid black;\n",
       "    border-collapse: collapse;\n",
       "  }\n",
       "  th, td {\n",
       "    padding: 5px;\n",
       "  }\n",
       "  th {\n",
       "    text-align: left;\n",
       "  }\n",
       "</style><div class='table-result-container'><table class='table-result'><thead style='background-color: white'><tr><th>column_name</th><th>percent_missing</th></tr></thead><tbody><tr><td>hospitalized_after_positive</td><td>0.0</td></tr><tr><td>IMV_after_positive</td><td>0.0</td></tr><tr><td>death_after_positive</td><td>0.0</td></tr><tr><td>age</td><td>0.0</td></tr><tr><td>BMI</td><td>0.0</td></tr><tr><td>sex:male</td><td>0.0</td></tr><tr><td>hypertension</td><td>0.0</td></tr><tr><td>diabetes (type 1+2)</td><td>0.0</td></tr><tr><td>atrial fibrillation</td><td>0.0</td></tr><tr><td>coronary artery disease</td><td>0.0</td></tr><tr><td>heart failure</td><td>0.0</td></tr><tr><td>chronic kidney disease</td><td>0.0</td></tr><tr><td>COPD</td><td>0.0</td></tr><tr><td>chronic liver disease</td><td>0.0</td></tr><tr><td>malignant neoplastic disease</td><td>0.0</td></tr><tr><td>HIV</td><td>0.0</td></tr><tr><td>history of transplant</td><td>0.0</td></tr><tr><td>stroke</td><td>0.0</td></tr><tr><td>opioid dependence</td><td>0.0</td></tr><tr><td>fully vaccinated</td><td>0.0</td></tr><tr><td>boosted</td><td>0.0</td></tr><tr><td>asthma</td><td>0.0</td></tr><tr><td>inflammatory bowel disease</td><td>0.0</td></tr><tr><td>rheumatoid arthritis</td><td>0.0</td></tr><tr><td>multiple sclerosis</td><td>0.0</td></tr><tr><td>psoriatic arthritis</td><td>0.0</td></tr><tr><td>psoriasis</td><td>0.0</td></tr><tr><td>systemic sclerosis</td><td>0.0</td></tr><tr><td>spondyloarthritis</td><td>0.0</td></tr><tr><td>systemic lupus</td><td>0.0</td></tr><tr><td>vasculitis</td><td>0.0</td></tr><tr><td>sarcoidosis</td><td>0.0</td></tr><tr><td>antiphospholipid syndrome</td><td>0.0</td></tr><tr><td>Sjögren syndrome</td><td>0.0</td></tr><tr><td>hydroxychloroquine</td><td>0.0</td></tr><tr><td>methotrexate</td><td>0.0</td></tr><tr><td>leflunomide teriflunomide</td><td>0.0</td></tr><tr><td>5-ASA</td><td>0.0</td></tr><tr><td>azathioprine</td><td>0.0</td></tr><tr><td>mercaptopurine</td><td>0.0</td></tr><tr><td>mycophenolate</td><td>0.0</td></tr><tr><td>calcineurin inhibitor</td><td>0.0</td></tr><tr><td>TNF-α inhibitor</td><td>0.0</td></tr><tr><td>fumarates</td><td>0.0</td></tr><tr><td>interferons</td><td>0.0</td></tr><tr><td>alkylating agent</td><td>0.0</td></tr><tr><td>hydroxyurea</td><td>0.0</td></tr><tr><td>dapsone</td><td>0.0</td></tr><tr><td>IL-6 inhibitor</td><td>0.0</td></tr><tr><td>IL-12/23 inhibitor</td><td>0.0</td></tr><tr><td>IL-17 inhibitor</td><td>0.0</td></tr><tr><td>IL-23 inhibitor</td><td>0.0</td></tr><tr><td>abatacept</td><td>0.0</td></tr><tr><td>S1P receptor modulator</td><td>0.0</td></tr><tr><td>JAK inhibitor</td><td>0.0</td></tr><tr><td>PDE4i targeted synthetic</td><td>0.0</td></tr><tr><td>anti-CD20</td><td>0.0</td></tr><tr><td>budesonide</td><td>0.0</td></tr><tr><td>systemic glucocorticoids</td><td>0.0</td></tr><tr><td>monoclonal antibody covid-19</td><td>0.0</td></tr><tr><td>paxlovid</td><td>0.0</td></tr></tbody></table></div>"
      ]
     },
     "metadata": {
      "application/vnd.databricks.v1+output": {
       "addedWidgets": {},
       "aggData": [],
       "aggError": "",
       "aggOverflow": false,
       "aggSchema": [],
       "aggSeriesLimitReached": false,
       "aggType": "",
       "arguments": {},
       "columnCustomDisplayInfos": {},
       "data": [
        [
         "hospitalized_after_positive",
         0.0
        ],
        [
         "IMV_after_positive",
         0.0
        ],
        [
         "death_after_positive",
         0.0
        ],
        [
         "age",
         0.0
        ],
        [
         "BMI",
         0.0
        ],
        [
         "sex:male",
         0.0
        ],
        [
         "hypertension",
         0.0
        ],
        [
         "diabetes (type 1+2)",
         0.0
        ],
        [
         "atrial fibrillation",
         0.0
        ],
        [
         "coronary artery disease",
         0.0
        ],
        [
         "heart failure",
         0.0
        ],
        [
         "chronic kidney disease",
         0.0
        ],
        [
         "COPD",
         0.0
        ],
        [
         "chronic liver disease",
         0.0
        ],
        [
         "malignant neoplastic disease",
         0.0
        ],
        [
         "HIV",
         0.0
        ],
        [
         "history of transplant",
         0.0
        ],
        [
         "stroke",
         0.0
        ],
        [
         "opioid dependence",
         0.0
        ],
        [
         "fully vaccinated",
         0.0
        ],
        [
         "boosted",
         0.0
        ],
        [
         "asthma",
         0.0
        ],
        [
         "inflammatory bowel disease",
         0.0
        ],
        [
         "rheumatoid arthritis",
         0.0
        ],
        [
         "multiple sclerosis",
         0.0
        ],
        [
         "psoriatic arthritis",
         0.0
        ],
        [
         "psoriasis",
         0.0
        ],
        [
         "systemic sclerosis",
         0.0
        ],
        [
         "spondyloarthritis",
         0.0
        ],
        [
         "systemic lupus",
         0.0
        ],
        [
         "vasculitis",
         0.0
        ],
        [
         "sarcoidosis",
         0.0
        ],
        [
         "antiphospholipid syndrome",
         0.0
        ],
        [
         "Sjögren syndrome",
         0.0
        ],
        [
         "hydroxychloroquine",
         0.0
        ],
        [
         "methotrexate",
         0.0
        ],
        [
         "leflunomide teriflunomide",
         0.0
        ],
        [
         "5-ASA",
         0.0
        ],
        [
         "azathioprine",
         0.0
        ],
        [
         "mercaptopurine",
         0.0
        ],
        [
         "mycophenolate",
         0.0
        ],
        [
         "calcineurin inhibitor",
         0.0
        ],
        [
         "TNF-α inhibitor",
         0.0
        ],
        [
         "fumarates",
         0.0
        ],
        [
         "interferons",
         0.0
        ],
        [
         "alkylating agent",
         0.0
        ],
        [
         "hydroxyurea",
         0.0
        ],
        [
         "dapsone",
         0.0
        ],
        [
         "IL-6 inhibitor",
         0.0
        ],
        [
         "IL-12/23 inhibitor",
         0.0
        ],
        [
         "IL-17 inhibitor",
         0.0
        ],
        [
         "IL-23 inhibitor",
         0.0
        ],
        [
         "abatacept",
         0.0
        ],
        [
         "S1P receptor modulator",
         0.0
        ],
        [
         "JAK inhibitor",
         0.0
        ],
        [
         "PDE4i targeted synthetic",
         0.0
        ],
        [
         "anti-CD20",
         0.0
        ],
        [
         "budesonide",
         0.0
        ],
        [
         "systemic glucocorticoids",
         0.0
        ],
        [
         "monoclonal antibody covid-19",
         0.0
        ],
        [
         "paxlovid",
         0.0
        ]
       ],
       "datasetInfos": [],
       "dbfsResultPath": null,
       "isJsonSchema": true,
       "metadata": {},
       "overflow": false,
       "plotOptions": {
        "customPlotOptions": {},
        "displayType": "table",
        "pivotAggregation": null,
        "pivotColumns": null,
        "xColumns": null,
        "yColumns": null
       },
       "removedWidgets": [],
       "schema": [
        {
         "metadata": "{}",
         "name": "column_name",
         "type": "\"string\""
        },
        {
         "metadata": "{}",
         "name": "percent_missing",
         "type": "\"double\""
        }
       ],
       "type": "table"
      }
     },
     "output_type": "display_data"
    }
   ],
   "source": [
    "## Columns to drop based on VIF results or missingness\n",
    "# train_pd_df.drop(['HIV'], axis = 1, inplace = True)\n",
    "# train_pd_df.drop(['systemic sclerosis'], axis = 1, inplace = True)\n",
    "# train_pd_df.drop(['leflunomide teriflunomide'], axis = 1, inplace = True)\n",
    "# train_pd_df.drop(['5-ASA'], axis = 1, inplace = True)\n",
    "train_pd_df.drop(['mitoxantrone'], axis = 1, inplace = True)\n",
    "# train_pd_df.drop(['mycophenolate'], axis = 1, inplace = True)\n",
    "# train_pd_df.drop(['interferons'], axis = 1, inplace = True)\n",
    "# train_pd_df.drop(['alkylating agent'], axis = 1, inplace = True)\n",
    "# train_pd_df.drop(['hydroxyurea'], axis = 1, inplace = True)\n",
    "\n",
    "# train_pd_df.drop(['dapsone'], axis = 1, inplace = True)\n",
    "train_pd_df.drop(['cladribine'], axis = 1, inplace = True)\n",
    "train_pd_df.drop(['IL-1 inhibitor'], axis = 1, inplace = True)\n",
    "# train_pd_df.drop(['IL-6 inhibitor'], axis = 1, inplace = True)\n",
    "# train_pd_df.drop(['IL-23 inhibitor'], axis = 1, inplace = True)\n",
    "train_pd_df.drop(['anti-BLyS'], axis = 1, inplace = True)\n",
    "# train_pd_df.drop(['S1P receptor modulator'], axis = 1, inplace = True)\n",
    "train_pd_df.drop(['integrin inhibitor'], axis = 1, inplace = True)\n",
    "# train_pd_df.drop(['PDE4i targeted synthetic'], axis = 1, inplace = True)\n",
    "# train_pd_df.drop(['anti-CD20'], axis = 1, inplace = True)\n",
    "train_pd_df.drop(['anti-CD52'], axis = 1, inplace = True)\n",
    "\n",
    "# train_pd_df.drop(['mercaptopurine'], axis = 1, inplace = True)\n",
    "# train_pd_df.drop(['abatacept'], axis = 1, inplace = True)\n",
    "\n",
    "# train_pd_df.drop(['IL-1 inhibitor'], axis = 1, inplace = True)\n",
    "# train_pd_df.drop(['cladribine'], axis = 1, inplace = True)\n",
    "# train_pd_df.drop(['anti-CD52'], axis = 1, inplace = True)\n",
    "# train_pd_df.drop(['monoclonal antibody covid-19'], axis = 1, inplace = True)\n",
    "\n",
    "\n",
    "percent_missing = train_pd_df.isnull().sum() * 100 / len(train_pd_df)\n",
    "missing_value_df = pd.DataFrame({'column_name': train_pd_df.columns,\n",
    "                                 'percent_missing': percent_missing})\n",
    "\n",
    "display(missing_value_df)\n",
    "\n",
    "## Notice! Need to comment out once have the initial VIF results\n",
    "## Fill NA values\n",
    "## Method 1: Remove rows with at least one null value\n",
    "# train_pd_noNull_df = train_pd_df.dropna()\n",
    "# train_pd_df = train_pd_noNull_df\n",
    "\n",
    "## Notice\n",
    "## Remove mAbs, antibody feature here\n",
    "train_pd_df.drop(['monoclonal antibody covid-19'], axis = 1, inplace = True)"
   ]
  },
  {
   "cell_type": "code",
   "execution_count": 0,
   "metadata": {
    "application/vnd.databricks.v1+cell": {
     "cellMetadata": {
      "byteLimit": 2048000,
      "rowLimit": 10000
     },
     "inputWidgets": {},
     "nuid": "0f251342-8bbe-4d9a-a705-77900579e0f4",
     "showTitle": true,
     "title": "Assign X and Y (Feature/Label split)"
    }
   },
   "outputs": [
    {
     "output_type": "stream",
     "name": "stdout",
     "output_type": "stream",
     "text": [
      "current random seed is:  42\ncurrent CV fold selection is:  10\n"
     ]
    }
   ],
   "source": [
    "## manually set the random seed to define a replication\n",
    "r_seed = 42\n",
    "print(\"current random seed is: \", r_seed)\n",
    "\n",
    "## manually set the number for cross validation\n",
    "num_cv = 10\n",
    "print(\"current CV fold selection is: \", num_cv)\n",
    "\n",
    "## Possible response vectors\n",
    "Y_cols = [\"hospitalized_after_positive\", 'IMV_after_positive', 'death_after_positive']\n",
    "\n",
    "## separate X and Y\n",
    "train_df_Y = train_pd_df[Y_cols]\n",
    "train_df_X = train_pd_df.drop(Y_cols, axis=1)\n",
    "\n",
    "## Create composite response vectors\n",
    "train_df_Y_new = pd.DataFrame(train_df_Y, columns = Y_cols)\n",
    "\n",
    "train_df_Y_new['hospitalized_or_IMV_or_death'] = train_df_Y['hospitalized_after_positive'] + train_df_Y['IMV_after_positive'] + train_df_Y['death_after_positive']\n",
    "train_df_Y_new['IMV_or_death'] = train_df_Y['IMV_after_positive'] + train_df_Y['death_after_positive']\n",
    "\n",
    "## Convert those >1 values back to 1\n",
    "train_df_Y_new.loc[train_df_Y_new['hospitalized_or_IMV_or_death'] >= 1, 'hospitalized_or_IMV_or_death'] = 1\n",
    "train_df_Y_new.loc[train_df_Y_new['IMV_or_death'] >= 1, 'IMV_or_death'] = 1"
   ]
  },
  {
   "cell_type": "code",
   "execution_count": 0,
   "metadata": {
    "application/vnd.databricks.v1+cell": {
     "cellMetadata": {
      "byteLimit": 2048000,
      "rowLimit": 10000
     },
     "inputWidgets": {},
     "nuid": "35e72f39-63f2-4e3d-a7a7-885061c9dd64",
     "showTitle": true,
     "title": "Check minimum sample sizes for all features"
    }
   },
   "outputs": [],
   "source": [
    "## Notice: LR need a minimum of 10 events (>50 better) per independent variable\n",
    "## Therefore, the following features need to be excluded for lack of events\n",
    "\n",
    "# train_df_X.iloc[:,2:].apply(pd.Series.value_counts)"
   ]
  },
  {
   "cell_type": "code",
   "execution_count": 0,
   "metadata": {
    "application/vnd.databricks.v1+cell": {
     "cellMetadata": {
      "byteLimit": 2048000,
      "rowLimit": 10000
     },
     "inputWidgets": {},
     "nuid": "f32fad29-b500-41f7-98b3-4da61fec03c1",
     "showTitle": true,
     "title": "Check multicollinearity with variance inflation factor (VIF)"
    }
   },
   "outputs": [
    {
     "output_type": "display_data",
     "data": {
      "text/html": [
       "<style scoped>\n",
       "  .table-result-container {\n",
       "    max-height: 300px;\n",
       "    overflow: auto;\n",
       "  }\n",
       "  table, th, td {\n",
       "    border: 1px solid black;\n",
       "    border-collapse: collapse;\n",
       "  }\n",
       "  th, td {\n",
       "    padding: 5px;\n",
       "  }\n",
       "  th {\n",
       "    text-align: left;\n",
       "  }\n",
       "</style><div class='table-result-container'><table class='table-result'><thead style='background-color: white'><tr><th>feature</th><th>VIF</th></tr></thead><tbody><tr><td>age</td><td>3.5818556333315725</td></tr><tr><td>BMI</td><td>1.0198399442534696</td></tr><tr><td>sex:male</td><td>1.567038652109814</td></tr><tr><td>hypertension</td><td>1.8732369908794655</td></tr><tr><td>diabetes (type 1+2)</td><td>1.37731399749496</td></tr><tr><td>atrial fibrillation</td><td>1.354896743157273</td></tr><tr><td>coronary artery disease</td><td>1.3535349473415597</td></tr><tr><td>heart failure</td><td>1.503543745492051</td></tr><tr><td>chronic kidney disease</td><td>1.410116063894732</td></tr><tr><td>COPD</td><td>1.2134800652081756</td></tr><tr><td>chronic liver disease</td><td>1.0427212186951325</td></tr><tr><td>malignant neoplastic disease</td><td>1.2853239779727563</td></tr><tr><td>HIV</td><td>1.0056489918301659</td></tr><tr><td>history of transplant</td><td>1.0915925627321343</td></tr><tr><td>stroke</td><td>1.0969732649974604</td></tr><tr><td>opioid dependence</td><td>1.0461159305420922</td></tr><tr><td>fully vaccinated</td><td>1.4778310220617232</td></tr><tr><td>boosted</td><td>1.589063545795869</td></tr><tr><td>asthma</td><td>1.1542547349445837</td></tr><tr><td>inflammatory bowel disease</td><td>1.071311399203944</td></tr><tr><td>rheumatoid arthritis</td><td>1.1933921733930686</td></tr><tr><td>multiple sclerosis</td><td>1.0802880785845563</td></tr><tr><td>psoriatic arthritis</td><td>1.1592832456712039</td></tr><tr><td>psoriasis</td><td>1.1237131039381774</td></tr><tr><td>systemic sclerosis</td><td>1.01248990634595</td></tr><tr><td>spondyloarthritis</td><td>1.0297541819858207</td></tr><tr><td>systemic lupus</td><td>1.1055519680819812</td></tr><tr><td>vasculitis</td><td>1.018721876264357</td></tr><tr><td>sarcoidosis</td><td>1.0078167132378</td></tr><tr><td>antiphospholipid syndrome</td><td>1.0243593679485397</td></tr><tr><td>Sjögren syndrome</td><td>1.0569155251769937</td></tr><tr><td>hydroxychloroquine</td><td>1.1119800811150455</td></tr><tr><td>methotrexate</td><td>1.1078251060860296</td></tr><tr><td>leflunomide teriflunomide</td><td>1.0391197893456487</td></tr><tr><td>5-ASA</td><td>1.0563448385053011</td></tr><tr><td>azathioprine</td><td>1.0246334832930286</td></tr><tr><td>mercaptopurine</td><td>1.0139465381101764</td></tr><tr><td>mycophenolate</td><td>1.1391978637138982</td></tr><tr><td>calcineurin inhibitor</td><td>1.1808050824940697</td></tr><tr><td>TNF-α inhibitor</td><td>1.0676845182969343</td></tr><tr><td>fumarates</td><td>1.0341284743432975</td></tr><tr><td>interferons</td><td>1.0077598247445168</td></tr><tr><td>alkylating agent</td><td>1.0081002181272876</td></tr><tr><td>hydroxyurea</td><td>1.0030960720908286</td></tr><tr><td>dapsone</td><td>1.0110022874971925</td></tr><tr><td>IL-6 inhibitor</td><td>1.0139778963623152</td></tr><tr><td>IL-12/23 inhibitor</td><td>1.0194510457263752</td></tr><tr><td>IL-17 inhibitor</td><td>1.0334112900544585</td></tr><tr><td>IL-23 inhibitor</td><td>1.004050780517961</td></tr><tr><td>abatacept</td><td>1.0215037953966224</td></tr><tr><td>S1P receptor modulator</td><td>1.026756887211412</td></tr><tr><td>JAK inhibitor</td><td>1.0251537043800725</td></tr><tr><td>PDE4i targeted synthetic</td><td>1.0138966145641584</td></tr><tr><td>anti-CD20</td><td>1.0196187453279855</td></tr><tr><td>budesonide</td><td>1.0200569281437877</td></tr><tr><td>systemic glucocorticoids</td><td>1.151949888156577</td></tr><tr><td>paxlovid</td><td>1.0027234092715336</td></tr></tbody></table></div>"
      ]
     },
     "metadata": {
      "application/vnd.databricks.v1+output": {
       "addedWidgets": {},
       "aggData": [],
       "aggError": "",
       "aggOverflow": false,
       "aggSchema": [],
       "aggSeriesLimitReached": false,
       "aggType": "",
       "arguments": {},
       "columnCustomDisplayInfos": {},
       "data": [
        [
         "age",
         3.5818556333315725
        ],
        [
         "BMI",
         1.0198399442534696
        ],
        [
         "sex:male",
         1.567038652109814
        ],
        [
         "hypertension",
         1.8732369908794655
        ],
        [
         "diabetes (type 1+2)",
         1.37731399749496
        ],
        [
         "atrial fibrillation",
         1.354896743157273
        ],
        [
         "coronary artery disease",
         1.3535349473415597
        ],
        [
         "heart failure",
         1.503543745492051
        ],
        [
         "chronic kidney disease",
         1.410116063894732
        ],
        [
         "COPD",
         1.2134800652081756
        ],
        [
         "chronic liver disease",
         1.0427212186951325
        ],
        [
         "malignant neoplastic disease",
         1.2853239779727563
        ],
        [
         "HIV",
         1.0056489918301659
        ],
        [
         "history of transplant",
         1.0915925627321343
        ],
        [
         "stroke",
         1.0969732649974604
        ],
        [
         "opioid dependence",
         1.0461159305420922
        ],
        [
         "fully vaccinated",
         1.4778310220617232
        ],
        [
         "boosted",
         1.589063545795869
        ],
        [
         "asthma",
         1.1542547349445837
        ],
        [
         "inflammatory bowel disease",
         1.071311399203944
        ],
        [
         "rheumatoid arthritis",
         1.1933921733930686
        ],
        [
         "multiple sclerosis",
         1.0802880785845563
        ],
        [
         "psoriatic arthritis",
         1.1592832456712039
        ],
        [
         "psoriasis",
         1.1237131039381774
        ],
        [
         "systemic sclerosis",
         1.01248990634595
        ],
        [
         "spondyloarthritis",
         1.0297541819858207
        ],
        [
         "systemic lupus",
         1.1055519680819812
        ],
        [
         "vasculitis",
         1.018721876264357
        ],
        [
         "sarcoidosis",
         1.0078167132378
        ],
        [
         "antiphospholipid syndrome",
         1.0243593679485397
        ],
        [
         "Sjögren syndrome",
         1.0569155251769937
        ],
        [
         "hydroxychloroquine",
         1.1119800811150455
        ],
        [
         "methotrexate",
         1.1078251060860296
        ],
        [
         "leflunomide teriflunomide",
         1.0391197893456487
        ],
        [
         "5-ASA",
         1.0563448385053011
        ],
        [
         "azathioprine",
         1.0246334832930286
        ],
        [
         "mercaptopurine",
         1.0139465381101764
        ],
        [
         "mycophenolate",
         1.1391978637138982
        ],
        [
         "calcineurin inhibitor",
         1.1808050824940697
        ],
        [
         "TNF-α inhibitor",
         1.0676845182969343
        ],
        [
         "fumarates",
         1.0341284743432975
        ],
        [
         "interferons",
         1.0077598247445168
        ],
        [
         "alkylating agent",
         1.0081002181272876
        ],
        [
         "hydroxyurea",
         1.0030960720908286
        ],
        [
         "dapsone",
         1.0110022874971925
        ],
        [
         "IL-6 inhibitor",
         1.0139778963623152
        ],
        [
         "IL-12/23 inhibitor",
         1.0194510457263752
        ],
        [
         "IL-17 inhibitor",
         1.0334112900544585
        ],
        [
         "IL-23 inhibitor",
         1.004050780517961
        ],
        [
         "abatacept",
         1.0215037953966224
        ],
        [
         "S1P receptor modulator",
         1.026756887211412
        ],
        [
         "JAK inhibitor",
         1.0251537043800725
        ],
        [
         "PDE4i targeted synthetic",
         1.0138966145641584
        ],
        [
         "anti-CD20",
         1.0196187453279855
        ],
        [
         "budesonide",
         1.0200569281437877
        ],
        [
         "systemic glucocorticoids",
         1.151949888156577
        ],
        [
         "paxlovid",
         1.0027234092715336
        ]
       ],
       "datasetInfos": [],
       "dbfsResultPath": null,
       "isJsonSchema": true,
       "metadata": {},
       "overflow": false,
       "plotOptions": {
        "customPlotOptions": {},
        "displayType": "table",
        "pivotAggregation": null,
        "pivotColumns": null,
        "xColumns": null,
        "yColumns": null
       },
       "removedWidgets": [],
       "schema": [
        {
         "metadata": "{}",
         "name": "feature",
         "type": "\"string\""
        },
        {
         "metadata": "{}",
         "name": "VIF",
         "type": "\"double\""
        }
       ],
       "type": "table"
      }
     },
     "output_type": "display_data"
    }
   ],
   "source": [
    "from statsmodels.stats.outliers_influence import variance_inflation_factor\n",
    "\n",
    "# VIF dataframe\n",
    "vif_data = pd.DataFrame()\n",
    "vif_data[\"feature\"] = train_df_X.columns\n",
    "\n",
    "# calculating VIF for each feature\n",
    "vif_data[\"VIF\"] = [variance_inflation_factor(train_df_X.values, i) for i in range(len(train_df_X.columns))]\n",
    "\n",
    "display(vif_data)"
   ]
  },
  {
   "cell_type": "code",
   "execution_count": 0,
   "metadata": {
    "application/vnd.databricks.v1+cell": {
     "cellMetadata": {
      "byteLimit": 2048000,
      "rowLimit": 10000
     },
     "inputWidgets": {},
     "nuid": "c7f173c9-759c-480f-9766-d890f2fd3010",
     "showTitle": true,
     "title": "visualize the data for correlation among the independent variables"
    }
   },
   "outputs": [],
   "source": [
    "# import matplotlib.pyplot as plt\n",
    "# from bioinfokit import visuz\n",
    "\n",
    "# visuz.stat.corr_mat(df=train_df_X, cmap='RdBu',dim = (15,15),  show=True)"
   ]
  },
  {
   "cell_type": "code",
   "execution_count": 0,
   "metadata": {
    "application/vnd.databricks.v1+cell": {
     "cellMetadata": {
      "byteLimit": 2048000,
      "rowLimit": 10000
     },
     "inputWidgets": {},
     "nuid": "a9a098d4-6250-4898-a819-1ed58b247e98",
     "showTitle": true,
     "title": "Workaround"
    }
   },
   "outputs": [],
   "source": [
    "## Found workaround at blog: this https://stackoverflow.com/questions/71106940/cannot-import-name-centered-from-scipy-signal-signaltools\n",
    "import  scipy.signal.signaltools\n",
    "\n",
    "def _centered(arr, newsize):\n",
    "    # Return the center newsize portion of the array.\n",
    "    newsize = np.asarray(newsize)\n",
    "    currsize = np.array(arr.shape)\n",
    "    startind = (currsize - newsize) // 2\n",
    "    endind = startind + newsize\n",
    "    myslice = [slice(startind[k], endind[k]) for k in range(len(endind))]\n",
    "    return arr[tuple(myslice)]\n",
    "\n",
    "scipy.signal.signaltools._centered = _centered"
   ]
  },
  {
   "cell_type": "code",
   "execution_count": 0,
   "metadata": {
    "application/vnd.databricks.v1+cell": {
     "cellMetadata": {
      "byteLimit": 2048000,
      "rowLimit": 10000
     },
     "inputWidgets": {},
     "nuid": "f4064a6c-0e79-4f67-a174-786f092e0ee0",
     "showTitle": true,
     "title": "Train multi-variate LR model (Odds ratio on over sampling and P values on raw samples)"
    }
   },
   "outputs": [],
   "source": [
    "import statsmodels.api as sm\n",
    "import statsmodels\n",
    "import lxml\n",
    "\n",
    "## The regularization method AND the solver used is determined by the argument method.\n",
    "regular_method = \"l1\"\n",
    "\n",
    "##Set LR optimzer to be\n",
    "## Options: lbfgs, powell, cg, ncg, bfgs, basinhopping, newton, ‘nm’ for Nelder-Mead\n",
    "## Previous choice: ncg\n",
    "opt_method = 'lbfgs'\n",
    "\n",
    "####################################################################################################\n",
    "## Method used to do univariate logistic regression on each single feature/variable\n",
    "## Inputs:\n",
    "## os_X: oversampled training data set X\n",
    "## os_y: oversampled training data's label y\n",
    "## X: training data set X\n",
    "## y: training data's label y\n",
    "## variable_name: the current feature/variable to use for the univariate LR model\n",
    "## opt_method: the current approximation method used for the LR model\n",
    "## Output:\n",
    "## A dataframe with columns: Feature, Feature Importance, Odds ratio, Pvalue, lower, upper\n",
    "######################################################################################################\n",
    "def multivariate_LR_model_result(os_X, os_y, us_X, us_y, select_method):\n",
    "  ## Instantiate a bionomial family and logit link function GLM model as logistic regression model\n",
    "  os_model = sm.Logit(os_y, os_X, missing = 'drop').fit(method = select_method, skip_hessian = False)\n",
    "\n",
    "  print(os_model.summary())\n",
    "\n",
    "  ## Acquire LR summary\n",
    "  os_results_summary = os_model.summary()\n",
    "  ## Note that tables is a list. The table at index 1 is the \"core\" table. Additionally, read_html puts dfs in a list, so we want index 0\n",
    "  os_results_as_html = os_results_summary.tables[1].as_html()\n",
    "  os_odds_ratio_df = pd.read_html(os_results_as_html, header=0, index_col=0)[0]\n",
    "\n",
    "    ## get the CI interval\n",
    "  os_odds_ratio_df = os_odds_ratio_df[[\"coef\", \"[0.025\", \"0.975]\"]]\n",
    "  os_odds_ratio_df.rename(columns={'coef': 'Odds ratio', '[0.025': 'lower', '0.975]':'upper'}, inplace=True)\n",
    "\n",
    "  ## Instantiate a bionomial family and logit link function GLM model as logistic regression model\n",
    "  us_model = sm.Logit(us_y, us_X, missing = 'drop').fit(method = select_method, skip_hessian = False)\n",
    "\n",
    "  #print(us_model.summary())\n",
    "\n",
    "  ## Acquire LR summary\n",
    "  us_results_summary = us_model.summary()\n",
    "  ## Note that tables is a list. The table at index 1 is the \"core\" table. Additionally, read_html puts dfs in a list, so we want index 0\n",
    "  us_results_as_html = us_results_summary.tables[1].as_html()\n",
    "  us_odds_ratio_df = pd.read_html(us_results_as_html, header=0, index_col=0)[0]\n",
    "\n",
    "  ## Get the uncorrected P value\n",
    "  us_odds_ratio_df = us_odds_ratio_df[[\"P>|z|\"]]\n",
    "  us_odds_ratio_df.rename(columns={'P>|z|': 'Pvalue'}, inplace=True)\n",
    "  \n",
    "  ## Get the corrected P value\n",
    "  ## Now use bonferroni\n",
    "  ## check this document for more details: http://jpktd.blogspot.com/2013/04/multiple-testing-p-value-corrections-in.html\n",
    "  ## API: https://www.statsmodels.org/dev/generated/statsmodels.stats.multitest.multipletests.html\n",
    "  ## Options: conservative Bonferroni correction method\n",
    "  rej, pval_corr= statsmodels.stats.multitest.multipletests(us_odds_ratio_df['Pvalue'], alpha=0.1, method='fdr_by', is_sorted=False)[:2]\n",
    "  us_odds_ratio_df['Pvalue_FDR_corrected'] = pval_corr\n",
    "\n",
    "  odds_ratio_df = pd.concat([os_odds_ratio_df.reset_index(drop=True), us_odds_ratio_df.reset_index(drop=True)], axis=1)\n",
    "\n",
    "  ## Display the odds ratio, p value, feature importance dataframe\n",
    "  feature_importances = pd.DataFrame(os_model.conf_int()[1]).rename(columns={1:'Coefficients'}).eval(\"absolute_coefficients=abs(Coefficients)\")\n",
    "  feature_importances.reset_index(inplace=True)\n",
    "\n",
    "  ## if feature importance is needed\n",
    "  feature_importances_df = feature_importances[[\"index\", \"absolute_coefficients\"]]\n",
    "  feature_importances_df.rename(columns={'index': 'Feature', 'absolute_coefficients': 'Feature Importance'}, inplace=True)\n",
    "  ## if feature importance is not needed\n",
    "#   feature_importances_df = feature_importances[[\"index\"]]\n",
    "#   feature_importances_df.rename(columns={'index': 'Feature'}, inplace=True)\n",
    "\n",
    "  result_df = pd.concat([feature_importances_df.reset_index(drop=True), odds_ratio_df.reset_index(drop=True)], axis=1)\n",
    "  return result_df, os_model"
   ]
  },
  {
   "cell_type": "markdown",
   "metadata": {
    "application/vnd.databricks.v1+cell": {
     "cellMetadata": {
      "byteLimit": 2048000,
      "rowLimit": 10000
     },
     "inputWidgets": {},
     "nuid": "32ff2252-0a2b-476a-9686-6794b2571a41",
     "showTitle": false,
     "title": ""
    }
   },
   "source": [
    "## Response == \"death\""
   ]
  },
  {
   "cell_type": "code",
   "execution_count": 0,
   "metadata": {
    "application/vnd.databricks.v1+cell": {
     "cellMetadata": {
      "byteLimit": 2048000,
      "rowLimit": 10000
     },
     "inputWidgets": {},
     "nuid": "b3b4a933-d9eb-447c-aa01-a616344f8768",
     "showTitle": false,
     "title": ""
    }
   },
   "outputs": [
    {
     "output_type": "stream",
     "name": "stdout",
     "output_type": "stream",
     "text": [
      "unique labels from y:  [0 1]\n"
     ]
    }
   ],
   "source": [
    "from imblearn.over_sampling import RandomOverSampler\n",
    "from imblearn.under_sampling import RandomUnderSampler\n",
    "\n",
    "###############################################################################\n",
    "## Current Y as response\n",
    "## Notice: need manual check\n",
    "## Possible options: hospitalized, invasive_mechanical_vent, death, results\n",
    "################################################################################\n",
    "\n",
    "select_col = 'death_after_positive'\n",
    "Y = train_df_Y[select_col]\n",
    "# Y = Y.map(dict(yes=1, no=0))\n",
    "\n",
    "class_names = np.unique(Y)\n",
    "print(\"unique labels from y: \", class_names)\n",
    "\n",
    "## Train test split use r_seed assigned in CMD 1\n",
    "X = train_df_X\n",
    "X_train, X_test, y_train, y_test = train_test_split(X, Y, test_size=0.1, random_state=r_seed, stratify = Y)\n",
    "columns = X_train.columns\n",
    "\n",
    "## Normalize after the train/test split to avoid any potential data leakage\n",
    "## using the min and max from the trainset to do minmax on test set\n",
    "age_min, age_max = X_train[\"age\"].min(), X_train[\"age\"].max()\n",
    "X_train[\"age\"] = (X_train[\"age\"] - age_min) / (age_max - age_min)\n",
    "X_test[\"age\"] = (X_test[\"age\"] - age_min) / (age_max - age_min)\n",
    "\n",
    "BMI_min, BMI_max = X_train[\"BMI\"].min(), X_train[\"BMI\"].max()\n",
    "X_train[\"BMI\"] = (X_train[\"BMI\"] - BMI_min) / (BMI_max - BMI_min)\n",
    "X_test[\"BMI\"] = (X_test[\"BMI\"] - BMI_min) / (BMI_max - BMI_min)\n",
    "\n",
    "## Random oversampling using random seed\n",
    "## Define oversampling strategy: default, 'auto': equivalent to 'not majority'\n",
    "oversample = RandomOverSampler(random_state=r_seed)\n",
    "os_data_X, os_data_y = oversample.fit_resample(X_train, y_train)\n",
    "os_data_X = pd.DataFrame(data=os_data_X, columns=columns)\n",
    "os_data_y= pd.DataFrame(data=os_data_y, columns=['death_after_positive'])\n",
    "\n",
    "\n",
    "# define undersample strategy: “majority” will undersample the majority class determined by the class with the largest number of examples.\n",
    "# undersample = RandomUnderSampler(sampling_strategy='majority', random_state=r_seed)\n",
    "# us_data_X, us_data_y = undersample.fit_resample(X_train, y_train)\n",
    "# us_data_X = pd.DataFrame(data=us_data_X, columns=columns)\n",
    "# us_data_y= pd.DataFrame(data=us_data_y, columns=['death_after_positive'])\n",
    "\n",
    "\n",
    "# we can Check the numbers of our data\n",
    "# print(\"length of oversampled data is \",len(os_data_X))\n",
    "# print(\"Number of no hos in oversampled data\",len(os_data_y[os_data_y['hospitalized_after_positive']==0]))\n",
    "# print(\"Number of hos\",len(os_data_y[os_data_y['hospitalized_after_positive']==1]))\n",
    "# print(\"Proportion of no hos data in oversampled data is \",len(os_data_y[os_data_y['hospitalized_after_positive']==0])/len(os_data_X))\n",
    "# print(\"Proportion of hos data in oversampled data is \",len(os_data_y[os_data_y['hospitalized_after_positive']==1])/len(os_data_X))"
   ]
  },
  {
   "cell_type": "code",
   "execution_count": 0,
   "metadata": {
    "application/vnd.databricks.v1+cell": {
     "cellMetadata": {
      "byteLimit": 2048000,
      "rowLimit": 10000
     },
     "inputWidgets": {},
     "nuid": "9525371e-0c17-4dcc-8ef2-cabab380349b",
     "showTitle": false,
     "title": ""
    }
   },
   "outputs": [
    {
     "output_type": "stream",
     "name": "stderr",
     "output_type": "stream",
     "text": [
      "Maximum Likelihood optimization failed to converge. Check mle_retvals\n"
     ]
    },
    {
     "output_type": "stream",
     "name": "stdout",
     "output_type": "stream",
     "text": [
      "                            Logit Regression Results                            \n================================================================================\nDep. Variable:     death_after_positive   No. Observations:               213948\nModel:                            Logit   Df Residuals:                   213891\nMethod:                             MLE   Df Model:                           56\nDate:                  Wed, 03 May 2023   Pseudo R-squ.:                  0.1926\nTime:                          00:02:45   Log-Likelihood:            -1.1974e+05\nconverged:                        False   LL-Null:                   -1.4830e+05\nCovariance Type:              nonrobust   LLR p-value:                     0.000\n================================================================================================\n                                   coef    std err          z      P>|z|      [0.025      0.975]\n------------------------------------------------------------------------------------------------\nage                              0.8845      0.016     54.373      0.000       0.853       0.916\nBMI                             -0.7643      1.352     -0.565      0.572      -3.414       1.885\nsex:male                        -0.4291      0.010    -44.067      0.000      -0.448      -0.410\nhypertension                    -0.0882      0.013     -6.871      0.000      -0.113      -0.063\ndiabetes (type 1+2)              0.1189      0.015      7.888      0.000       0.089       0.148\natrial fibrillation              0.7843      0.018     44.662      0.000       0.750       0.819\ncoronary artery disease          0.3793      0.018     21.017      0.000       0.344       0.415\nheart failure                    0.9324      0.018     51.714      0.000       0.897       0.968\nchronic kidney disease           0.7963      0.016     48.446      0.000       0.764       0.829\nCOPD                             0.6915      0.019     35.573      0.000       0.653       0.730\nchronic liver disease            0.9979      0.031     32.546      0.000       0.938       1.058\nmalignant neoplastic disease     0.7006      0.014     49.598      0.000       0.673       0.728\nHIV                              0.1960      0.096      2.046      0.041       0.008       0.384\nhistory of transplant            0.5086      0.101      5.034      0.000       0.311       0.707\nstroke                           0.8172      0.024     34.366      0.000       0.771       0.864\nopioid dependence               -0.0641      0.035     -1.832      0.067      -0.133       0.004\nfully vaccinated                -1.1954      0.012    -96.426      0.000      -1.220      -1.171\nboosted                         -1.2499      0.014    -92.083      0.000      -1.276      -1.223\nasthma                          -1.0898      0.018    -59.981      0.000      -1.125      -1.054\ninflammatory bowel disease       0.3154      0.048      6.551      0.000       0.221       0.410\nrheumatoid arthritis             0.2445      0.040      6.137      0.000       0.166       0.323\nmultiple sclerosis              -0.0044      0.066     -0.067      0.947      -0.134       0.125\npsoriatic arthritis             -0.7735      0.094     -8.233      0.000      -0.958      -0.589\npsoriasis                       -0.3389      0.043     -7.867      0.000      -0.423      -0.255\nsystemic sclerosis              -0.4716      0.176     -2.682      0.007      -0.816      -0.127\nspondyloarthritis               -0.9022      0.054    -16.800      0.000      -1.007      -0.797\nsystemic lupus                  -0.0159      0.065     -0.243      0.808      -0.144       0.112\nvasculitis                       0.9435      0.100      9.468      0.000       0.748       1.139\nsarcoidosis                      0.3095      0.097      3.193      0.001       0.119       0.499\nantiphospholipid syndrome       -0.7349      0.143     -5.139      0.000      -1.015      -0.455\nSjögren syndrome                -0.3586      0.097     -3.692      0.000      -0.549      -0.168\nhydroxychloroquine               0.2823      0.088      3.199      0.001       0.109       0.455\nmethotrexate                    -0.0586      0.097     -0.604      0.546      -0.249       0.131\nleflunomide teriflunomide       -0.7737      0.217     -3.563      0.000      -1.199      -0.348\n5-ASA                           -0.0970      0.134     -0.722      0.470      -0.360       0.166\nazathioprine                     0.3740      0.171      2.182      0.029       0.038       0.710\nmercaptopurine                  -0.3063      0.344     -0.891      0.373      -0.980       0.368\nmycophenolate                   -1.0927      0.253     -4.314      0.000      -1.589      -0.596\ncalcineurin inhibitor           -0.4921      0.110     -4.459      0.000      -0.708      -0.276\nTNF-α inhibitor                  0.0730      0.135      0.540      0.589      -0.192       0.338\nfumarates                       -0.3501      0.665     -0.526      0.599      -1.654       0.954\ninterferons                     -0.0759      1.256     -0.060      0.952      -2.537       2.385\nalkylating agent                 0.0551      0.410      0.134      0.893      -0.749       0.859\nhydroxyurea                      0.4932      0.203      2.435      0.015       0.096       0.890\ndapsone                          1.4441      0.268      5.389      0.000       0.919       1.969\nIL-6 inhibitor                   0.2909      0.323      0.901      0.367      -0.342       0.923\nIL-12/23 inhibitor              -0.5514      0.509     -1.084      0.278      -1.548       0.445\nIL-17 inhibitor                 -0.5914      0.513     -1.153      0.249      -1.597       0.414\nIL-23 inhibitor                 -0.1242      0.958     -0.130      0.897      -2.002       1.754\nabatacept                        0.5881      0.262      2.244      0.025       0.074       1.102\nS1P receptor modulator           1.1373      0.283      4.013      0.000       0.582       1.693\nJAK inhibitor                   -0.6384      0.243     -2.623      0.009      -1.115      -0.161\nPDE4i targeted synthetic        -0.0643      0.531     -0.121      0.904      -1.106       0.977\nanti-CD20                       -0.4733      0.617     -0.767      0.443      -1.683       0.737\nbudesonide                      -0.2546      0.100     -2.551      0.011      -0.450      -0.059\nsystemic glucocorticoids        -0.0199      0.018     -1.081      0.280      -0.056       0.016\npaxlovid                        -2.8927      0.353     -8.199      0.000      -3.584      -2.201\n================================================================================================\n"
     ]
    },
    {
     "output_type": "stream",
     "name": "stderr",
     "output_type": "stream",
     "text": [
      "Maximum Likelihood optimization failed to converge. Check mle_retvals\n\nA value is trying to be set on a copy of a slice from a DataFrame\n\nSee the caveats in the documentation: https://pandas.pydata.org/pandas-docs/stable/user_guide/indexing.html#returning-a-view-versus-a-copy\n"
     ]
    },
    {
     "output_type": "display_data",
     "data": {
      "text/html": [
       "<style scoped>\n",
       "  .table-result-container {\n",
       "    max-height: 300px;\n",
       "    overflow: auto;\n",
       "  }\n",
       "  table, th, td {\n",
       "    border: 1px solid black;\n",
       "    border-collapse: collapse;\n",
       "  }\n",
       "  th, td {\n",
       "    padding: 5px;\n",
       "  }\n",
       "  th {\n",
       "    text-align: left;\n",
       "  }\n",
       "</style><div class='table-result-container'><table class='table-result'><thead style='background-color: white'><tr><th>Feature</th><th>Feature Importance</th><th>Odds ratio</th><th>lower</th><th>upper</th><th>Pvalue</th><th>Pvalue_FDR_corrected</th></tr></thead><tbody><tr><td>age</td><td>0.9163462226000652</td><td>0.8845</td><td>0.853</td><td>0.916</td><td>0.0</td><td>0.0</td></tr><tr><td>BMI</td><td>1.8853721387360847</td><td>-0.7643</td><td>-3.414</td><td>1.885</td><td>0.382</td><td>1.0</td></tr><tr><td>sex:male</td><td>0.41005626626438835</td><td>-0.4291</td><td>-0.448</td><td>-0.41</td><td>0.0</td><td>0.0</td></tr><tr><td>hypertension</td><td>0.06302357189573903</td><td>-0.0882</td><td>-0.113</td><td>-0.063</td><td>0.0</td><td>0.0</td></tr><tr><td>diabetes (type 1+2)</td><td>0.1484449595271243</td><td>0.1189</td><td>0.089</td><td>0.148</td><td>0.232</td><td>1.0</td></tr><tr><td>atrial fibrillation</td><td>0.8187226214373883</td><td>0.7843</td><td>0.75</td><td>0.819</td><td>0.0</td><td>0.0</td></tr><tr><td>coronary artery disease</td><td>0.414655987497526</td><td>0.3793</td><td>0.344</td><td>0.415</td><td>0.0</td><td>0.0</td></tr><tr><td>heart failure</td><td>0.9677653117771767</td><td>0.9324</td><td>0.897</td><td>0.968</td><td>0.0</td><td>0.0</td></tr><tr><td>chronic kidney disease</td><td>0.8285629885769543</td><td>0.7963</td><td>0.764</td><td>0.829</td><td>0.0</td><td>0.0</td></tr><tr><td>COPD</td><td>0.7296121089443863</td><td>0.6915</td><td>0.653</td><td>0.73</td><td>0.0</td><td>0.0</td></tr><tr><td>chronic liver disease</td><td>1.05797033668869</td><td>0.9979</td><td>0.938</td><td>1.058</td><td>0.0</td><td>0.0</td></tr><tr><td>malignant neoplastic disease</td><td>0.7282915794694773</td><td>0.7006</td><td>0.673</td><td>0.728</td><td>0.0</td><td>0.0</td></tr><tr><td>HIV</td><td>0.3837961900550904</td><td>0.196</td><td>0.008</td><td>0.384</td><td>0.874</td><td>1.0</td></tr><tr><td>history of transplant</td><td>0.7066512164835392</td><td>0.5086</td><td>0.311</td><td>0.707</td><td>0.086</td><td>0.8404230658202737</td></tr><tr><td>stroke</td><td>0.8637884903874627</td><td>0.8172</td><td>0.771</td><td>0.864</td><td>0.0</td><td>0.0</td></tr><tr><td>opioid dependence</td><td>0.004495974208879122</td><td>-0.0641</td><td>-0.133</td><td>0.004</td><td>0.0</td><td>0.0</td></tr><tr><td>fully vaccinated</td><td>1.1710697071447533</td><td>-1.1954</td><td>-1.22</td><td>-1.171</td><td>0.0</td><td>0.0</td></tr><tr><td>boosted</td><td>1.2232617109480148</td><td>-1.2499</td><td>-1.276</td><td>-1.223</td><td>0.0</td><td>0.0</td></tr><tr><td>asthma</td><td>1.0541742440261956</td><td>-1.0898</td><td>-1.125</td><td>-1.054</td><td>0.0</td><td>0.0</td></tr><tr><td>inflammatory bowel disease</td><td>0.4097236767962937</td><td>0.3154</td><td>0.221</td><td>0.41</td><td>0.67</td><td>1.0</td></tr><tr><td>rheumatoid arthritis</td><td>0.32264658041415273</td><td>0.2445</td><td>0.166</td><td>0.323</td><td>0.304</td><td>1.0</td></tr><tr><td>multiple sclerosis</td><td>0.1252847033443351</td><td>-0.0044</td><td>-0.134</td><td>0.125</td><td>0.924</td><td>1.0</td></tr><tr><td>psoriatic arthritis</td><td>0.5893727007434006</td><td>-0.7735</td><td>-0.958</td><td>-0.589</td><td>0.093</td><td>0.8763713946323536</td></tr><tr><td>psoriasis</td><td>0.2545011552705392</td><td>-0.3389</td><td>-0.423</td><td>-0.255</td><td>0.023</td><td>0.3371464624511563</td></tr><tr><td>systemic sclerosis</td><td>0.1269660437522001</td><td>-0.4716</td><td>-0.816</td><td>-0.127</td><td>0.432</td><td>1.0</td></tr><tr><td>spondyloarthritis</td><td>0.7969514484932554</td><td>-0.9022</td><td>-1.007</td><td>-0.797</td><td>0.033</td><td>0.4582723082288029</td></tr><tr><td>systemic lupus</td><td>0.11246265917970817</td><td>-0.0159</td><td>-0.144</td><td>0.112</td><td>0.04</td><td>0.5025785775669411</td></tr><tr><td>vasculitis</td><td>1.1388035954499245</td><td>0.9435</td><td>0.748</td><td>1.139</td><td>0.987</td><td>1.0</td></tr><tr><td>sarcoidosis</td><td>0.4994597900899823</td><td>0.3095</td><td>0.119</td><td>0.499</td><td>0.492</td><td>1.0</td></tr><tr><td>antiphospholipid syndrome</td><td>0.4545837138440318</td><td>-0.7349</td><td>-1.015</td><td>-0.455</td><td>0.055</td><td>0.6015865573476286</td></tr><tr><td>Sjögren syndrome</td><td>0.16822296294287611</td><td>-0.3586</td><td>-0.549</td><td>-0.168</td><td>0.043</td><td>0.515714154026077</td></tr><tr><td>hydroxychloroquine</td><td>0.4552072400538878</td><td>0.2823</td><td>0.109</td><td>0.455</td><td>0.048</td><td>0.5506513110733442</td></tr><tr><td>methotrexate</td><td>0.13149542350293342</td><td>-0.0586</td><td>-0.249</td><td>0.131</td><td>0.302</td><td>1.0</td></tr><tr><td>leflunomide teriflunomide</td><td>0.3481456680691574</td><td>-0.7737</td><td>-1.199</td><td>-0.348</td><td>0.468</td><td>1.0</td></tr><tr><td>5-ASA</td><td>0.1661940172282344</td><td>-0.097</td><td>-0.36</td><td>0.166</td><td>0.003</td><td>0.04656242703929014</td></tr><tr><td>azathioprine</td><td>0.7099808328118823</td><td>0.374</td><td>0.038</td><td>0.71</td><td>0.278</td><td>1.0</td></tr><tr><td>mercaptopurine</td><td>0.36751156030742416</td><td>-0.3063</td><td>-0.98</td><td>0.368</td><td>0.057</td><td>0.6015865573476286</td></tr><tr><td>mycophenolate</td><td>0.5963110583356268</td><td>-1.0927</td><td>-1.589</td><td>-0.596</td><td>0.907</td><td>1.0</td></tr><tr><td>calcineurin inhibitor</td><td>0.2757939705390744</td><td>-0.4921</td><td>-0.708</td><td>-0.276</td><td>0.066</td><td>0.6697826043344043</td></tr><tr><td>TNF-α inhibitor</td><td>0.33829998104973297</td><td>0.073</td><td>-0.192</td><td>0.338</td><td>0.039</td><td>0.5025785775669411</td></tr><tr><td>fumarates</td><td>0.9542478306571321</td><td>-0.3501</td><td>-1.654</td><td>0.954</td><td>0.767</td><td>1.0</td></tr><tr><td>interferons</td><td>2.385320556037016</td><td>-0.0759</td><td>-2.537</td><td>2.385</td><td>0.999</td><td>1.0</td></tr><tr><td>alkylating agent</td><td>0.8591527625056509</td><td>0.0551</td><td>-0.749</td><td>0.859</td><td>0.648</td><td>1.0</td></tr><tr><td>hydroxyurea</td><td>0.8902022950941652</td><td>0.4932</td><td>0.096</td><td>0.89</td><td>0.581</td><td>1.0</td></tr><tr><td>dapsone</td><td>1.96926734995507</td><td>1.4441</td><td>0.919</td><td>1.969</td><td>0.098</td><td>0.8916437177868661</td></tr><tr><td>IL-6 inhibitor</td><td>0.9233509677642322</td><td>0.2909</td><td>-0.342</td><td>0.923</td><td>0.611</td><td>1.0</td></tr><tr><td>IL-12/23 inhibitor</td><td>0.44528614886440376</td><td>-0.5514</td><td>-1.548</td><td>0.445</td><td>0.637</td><td>1.0</td></tr><tr><td>IL-17 inhibitor</td><td>0.4141809535456663</td><td>-0.5914</td><td>-1.597</td><td>0.414</td><td>0.687</td><td>1.0</td></tr><tr><td>IL-23 inhibitor</td><td>1.7535347884798809</td><td>-0.1242</td><td>-2.002</td><td>1.754</td><td>0.987</td><td>1.0</td></tr><tr><td>abatacept</td><td>1.1017096228893264</td><td>0.5881</td><td>0.074</td><td>1.102</td><td>0.666</td><td>1.0</td></tr><tr><td>S1P receptor modulator</td><td>1.6927374942450548</td><td>1.1373</td><td>0.582</td><td>1.693</td><td>0.571</td><td>1.0</td></tr><tr><td>JAK inhibitor</td><td>0.1613946271319326</td><td>-0.6384</td><td>-1.115</td><td>-0.161</td><td>0.741</td><td>1.0</td></tr><tr><td>PDE4i targeted synthetic</td><td>0.9771739871361991</td><td>-0.0643</td><td>-1.106</td><td>0.977</td><td>0.783</td><td>1.0</td></tr><tr><td>anti-CD20</td><td>0.7367532239715778</td><td>-0.4733</td><td>-1.683</td><td>0.737</td><td>0.942</td><td>1.0</td></tr><tr><td>budesonide</td><td>0.05901775781100532</td><td>-0.2546</td><td>-0.45</td><td>-0.059</td><td>0.515</td><td>1.0</td></tr><tr><td>systemic glucocorticoids</td><td>0.01617246823192123</td><td>-0.0199</td><td>-0.056</td><td>0.016</td><td>0.0</td><td>0.0</td></tr><tr><td>paxlovid</td><td>2.2011978604589664</td><td>-2.8927</td><td>-3.584</td><td>-2.201</td><td>0.206</td><td>1.0</td></tr></tbody></table></div>"
      ]
     },
     "metadata": {
      "application/vnd.databricks.v1+output": {
       "addedWidgets": {},
       "aggData": [],
       "aggError": "",
       "aggOverflow": false,
       "aggSchema": [],
       "aggSeriesLimitReached": false,
       "aggType": "",
       "arguments": {},
       "columnCustomDisplayInfos": {},
       "data": [
        [
         "age",
         0.9163462226000652,
         0.8845,
         0.853,
         0.916,
         0.0,
         0.0
        ],
        [
         "BMI",
         1.8853721387360847,
         -0.7643,
         -3.414,
         1.885,
         0.382,
         1.0
        ],
        [
         "sex:male",
         0.41005626626438835,
         -0.4291,
         -0.448,
         -0.41,
         0.0,
         0.0
        ],
        [
         "hypertension",
         0.06302357189573903,
         -0.0882,
         -0.113,
         -0.063,
         0.0,
         0.0
        ],
        [
         "diabetes (type 1+2)",
         0.1484449595271243,
         0.1189,
         0.089,
         0.148,
         0.232,
         1.0
        ],
        [
         "atrial fibrillation",
         0.8187226214373883,
         0.7843,
         0.75,
         0.819,
         0.0,
         0.0
        ],
        [
         "coronary artery disease",
         0.414655987497526,
         0.3793,
         0.344,
         0.415,
         0.0,
         0.0
        ],
        [
         "heart failure",
         0.9677653117771767,
         0.9324,
         0.897,
         0.968,
         0.0,
         0.0
        ],
        [
         "chronic kidney disease",
         0.8285629885769543,
         0.7963,
         0.764,
         0.829,
         0.0,
         0.0
        ],
        [
         "COPD",
         0.7296121089443863,
         0.6915,
         0.653,
         0.73,
         0.0,
         0.0
        ],
        [
         "chronic liver disease",
         1.05797033668869,
         0.9979,
         0.938,
         1.058,
         0.0,
         0.0
        ],
        [
         "malignant neoplastic disease",
         0.7282915794694773,
         0.7006,
         0.673,
         0.728,
         0.0,
         0.0
        ],
        [
         "HIV",
         0.3837961900550904,
         0.196,
         0.008,
         0.384,
         0.874,
         1.0
        ],
        [
         "history of transplant",
         0.7066512164835392,
         0.5086,
         0.311,
         0.707,
         0.086,
         0.8404230658202737
        ],
        [
         "stroke",
         0.8637884903874627,
         0.8172,
         0.771,
         0.864,
         0.0,
         0.0
        ],
        [
         "opioid dependence",
         0.004495974208879122,
         -0.0641,
         -0.133,
         0.004,
         0.0,
         0.0
        ],
        [
         "fully vaccinated",
         1.1710697071447533,
         -1.1954,
         -1.22,
         -1.171,
         0.0,
         0.0
        ],
        [
         "boosted",
         1.2232617109480148,
         -1.2499,
         -1.276,
         -1.223,
         0.0,
         0.0
        ],
        [
         "asthma",
         1.0541742440261956,
         -1.0898,
         -1.125,
         -1.054,
         0.0,
         0.0
        ],
        [
         "inflammatory bowel disease",
         0.4097236767962937,
         0.3154,
         0.221,
         0.41,
         0.67,
         1.0
        ],
        [
         "rheumatoid arthritis",
         0.32264658041415273,
         0.2445,
         0.166,
         0.323,
         0.304,
         1.0
        ],
        [
         "multiple sclerosis",
         0.1252847033443351,
         -0.0044,
         -0.134,
         0.125,
         0.924,
         1.0
        ],
        [
         "psoriatic arthritis",
         0.5893727007434006,
         -0.7735,
         -0.958,
         -0.589,
         0.093,
         0.8763713946323536
        ],
        [
         "psoriasis",
         0.2545011552705392,
         -0.3389,
         -0.423,
         -0.255,
         0.023,
         0.3371464624511563
        ],
        [
         "systemic sclerosis",
         0.1269660437522001,
         -0.4716,
         -0.816,
         -0.127,
         0.432,
         1.0
        ],
        [
         "spondyloarthritis",
         0.7969514484932554,
         -0.9022,
         -1.007,
         -0.797,
         0.033,
         0.4582723082288029
        ],
        [
         "systemic lupus",
         0.11246265917970817,
         -0.0159,
         -0.144,
         0.112,
         0.04,
         0.5025785775669411
        ],
        [
         "vasculitis",
         1.1388035954499245,
         0.9435,
         0.748,
         1.139,
         0.987,
         1.0
        ],
        [
         "sarcoidosis",
         0.4994597900899823,
         0.3095,
         0.119,
         0.499,
         0.492,
         1.0
        ],
        [
         "antiphospholipid syndrome",
         0.4545837138440318,
         -0.7349,
         -1.015,
         -0.455,
         0.055,
         0.6015865573476286
        ],
        [
         "Sjögren syndrome",
         0.16822296294287611,
         -0.3586,
         -0.549,
         -0.168,
         0.043,
         0.515714154026077
        ],
        [
         "hydroxychloroquine",
         0.4552072400538878,
         0.2823,
         0.109,
         0.455,
         0.048,
         0.5506513110733442
        ],
        [
         "methotrexate",
         0.13149542350293342,
         -0.0586,
         -0.249,
         0.131,
         0.302,
         1.0
        ],
        [
         "leflunomide teriflunomide",
         0.3481456680691574,
         -0.7737,
         -1.199,
         -0.348,
         0.468,
         1.0
        ],
        [
         "5-ASA",
         0.1661940172282344,
         -0.097,
         -0.36,
         0.166,
         0.003,
         0.04656242703929014
        ],
        [
         "azathioprine",
         0.7099808328118823,
         0.374,
         0.038,
         0.71,
         0.278,
         1.0
        ],
        [
         "mercaptopurine",
         0.36751156030742416,
         -0.3063,
         -0.98,
         0.368,
         0.057,
         0.6015865573476286
        ],
        [
         "mycophenolate",
         0.5963110583356268,
         -1.0927,
         -1.589,
         -0.596,
         0.907,
         1.0
        ],
        [
         "calcineurin inhibitor",
         0.2757939705390744,
         -0.4921,
         -0.708,
         -0.276,
         0.066,
         0.6697826043344043
        ],
        [
         "TNF-α inhibitor",
         0.33829998104973297,
         0.073,
         -0.192,
         0.338,
         0.039,
         0.5025785775669411
        ],
        [
         "fumarates",
         0.9542478306571321,
         -0.3501,
         -1.654,
         0.954,
         0.767,
         1.0
        ],
        [
         "interferons",
         2.385320556037016,
         -0.0759,
         -2.537,
         2.385,
         0.999,
         1.0
        ],
        [
         "alkylating agent",
         0.8591527625056509,
         0.0551,
         -0.749,
         0.859,
         0.648,
         1.0
        ],
        [
         "hydroxyurea",
         0.8902022950941652,
         0.4932,
         0.096,
         0.89,
         0.581,
         1.0
        ],
        [
         "dapsone",
         1.96926734995507,
         1.4441,
         0.919,
         1.969,
         0.098,
         0.8916437177868661
        ],
        [
         "IL-6 inhibitor",
         0.9233509677642322,
         0.2909,
         -0.342,
         0.923,
         0.611,
         1.0
        ],
        [
         "IL-12/23 inhibitor",
         0.44528614886440376,
         -0.5514,
         -1.548,
         0.445,
         0.637,
         1.0
        ],
        [
         "IL-17 inhibitor",
         0.4141809535456663,
         -0.5914,
         -1.597,
         0.414,
         0.687,
         1.0
        ],
        [
         "IL-23 inhibitor",
         1.7535347884798809,
         -0.1242,
         -2.002,
         1.754,
         0.987,
         1.0
        ],
        [
         "abatacept",
         1.1017096228893264,
         0.5881,
         0.074,
         1.102,
         0.666,
         1.0
        ],
        [
         "S1P receptor modulator",
         1.6927374942450548,
         1.1373,
         0.582,
         1.693,
         0.571,
         1.0
        ],
        [
         "JAK inhibitor",
         0.1613946271319326,
         -0.6384,
         -1.115,
         -0.161,
         0.741,
         1.0
        ],
        [
         "PDE4i targeted synthetic",
         0.9771739871361991,
         -0.0643,
         -1.106,
         0.977,
         0.783,
         1.0
        ],
        [
         "anti-CD20",
         0.7367532239715778,
         -0.4733,
         -1.683,
         0.737,
         0.942,
         1.0
        ],
        [
         "budesonide",
         0.05901775781100532,
         -0.2546,
         -0.45,
         -0.059,
         0.515,
         1.0
        ],
        [
         "systemic glucocorticoids",
         0.01617246823192123,
         -0.0199,
         -0.056,
         0.016,
         0.0,
         0.0
        ],
        [
         "paxlovid",
         2.2011978604589664,
         -2.8927,
         -3.584,
         -2.201,
         0.206,
         1.0
        ]
       ],
       "datasetInfos": [],
       "dbfsResultPath": null,
       "isJsonSchema": true,
       "metadata": {},
       "overflow": false,
       "plotOptions": {
        "customPlotOptions": {},
        "displayType": "table",
        "pivotAggregation": null,
        "pivotColumns": null,
        "xColumns": null,
        "yColumns": null
       },
       "removedWidgets": [],
       "schema": [
        {
         "metadata": "{}",
         "name": "Feature",
         "type": "\"string\""
        },
        {
         "metadata": "{}",
         "name": "Feature Importance",
         "type": "\"double\""
        },
        {
         "metadata": "{}",
         "name": "Odds ratio",
         "type": "\"double\""
        },
        {
         "metadata": "{}",
         "name": "lower",
         "type": "\"double\""
        },
        {
         "metadata": "{}",
         "name": "upper",
         "type": "\"double\""
        },
        {
         "metadata": "{}",
         "name": "Pvalue",
         "type": "\"double\""
        },
        {
         "metadata": "{}",
         "name": "Pvalue_FDR_corrected",
         "type": "\"double\""
        }
       ],
       "type": "table"
      }
     },
     "output_type": "display_data"
    }
   ],
   "source": [
    "death_result_df, os_LR_statmodel = multivariate_LR_model_result(os_data_X, os_data_y, X_train, y_train, opt_method)\n",
    "display(death_result_df)"
   ]
  },
  {
   "cell_type": "code",
   "execution_count": 0,
   "metadata": {
    "application/vnd.databricks.v1+cell": {
     "cellMetadata": {
      "byteLimit": 2048000,
      "rowLimit": 10000
     },
     "inputWidgets": {},
     "nuid": "defc07eb-580c-491e-b464-5c0c28c298c6",
     "showTitle": false,
     "title": ""
    }
   },
   "outputs": [
    {
     "output_type": "stream",
     "name": "stdout",
     "output_type": "stream",
     "text": [
      "Auroc on test data set: 0.79876\n"
     ]
    }
   ],
   "source": [
    "from sklearn.metrics import roc_auc_score\n",
    "LR_model_binaryclass_auroc = binary_class_roc_auc_score(y_test, os_LR_statmodel.predict(X_test))\n",
    "\n",
    "print(\"Auroc on test data set: %0.5f\" % (LR_model_binaryclass_auroc))"
   ]
  },
  {
   "cell_type": "markdown",
   "metadata": {
    "application/vnd.databricks.v1+cell": {
     "cellMetadata": {
      "byteLimit": 2048000,
      "rowLimit": 10000
     },
     "inputWidgets": {},
     "nuid": "b26767b7-7586-464a-af66-96aaab66214d",
     "showTitle": false,
     "title": ""
    }
   },
   "source": [
    "## Response == \"hospitalized_or_IMV_or_death\""
   ]
  },
  {
   "cell_type": "code",
   "execution_count": 0,
   "metadata": {
    "application/vnd.databricks.v1+cell": {
     "cellMetadata": {
      "byteLimit": 2048000,
      "rowLimit": 10000
     },
     "inputWidgets": {},
     "nuid": "dd855809-6cc8-44e4-a996-ae7334c3e7be",
     "showTitle": false,
     "title": ""
    }
   },
   "outputs": [
    {
     "output_type": "stream",
     "name": "stdout",
     "output_type": "stream",
     "text": [
      "unique labels from y:  [0 1]\n"
     ]
    }
   ],
   "source": [
    "from imblearn.over_sampling import RandomOverSampler\n",
    "from imblearn.under_sampling import RandomUnderSampler\n",
    "\n",
    "###############################################################################\n",
    "## Current Y as response\n",
    "## Notice: need manual check\n",
    "## Possible options: hospitalized, invasive_mechanical_vent, death, results\n",
    "################################################################################\n",
    "\n",
    "select_col = 'hospitalized_or_IMV_or_death'\n",
    "Y = train_df_Y_new[select_col]\n",
    "# Y = Y.map(dict(yes=1, no=0))\n",
    "\n",
    "class_names = np.unique(Y)\n",
    "print(\"unique labels from y: \", class_names)\n",
    "\n",
    "## Train test split use r_seed assigned in CMD 1\n",
    "X = train_df_X\n",
    "X_train, X_test, y_train, y_test = train_test_split(X, Y, test_size=0.1, random_state=r_seed, stratify = Y)\n",
    "columns = X_train.columns\n",
    "\n",
    "## Normalize after the train/test split to avoid any potential data leakage\n",
    "## using the min and max from the trainset to do minmax on test set\n",
    "age_min, age_max = X_train[\"age\"].min(), X_train[\"age\"].max()\n",
    "X_train[\"age\"] = (X_train[\"age\"] - age_min) / (age_max - age_min)\n",
    "X_test[\"age\"] = (X_test[\"age\"] - age_min) / (age_max - age_min)\n",
    "\n",
    "BMI_min, BMI_max = X_train[\"BMI\"].min(), X_train[\"BMI\"].max()\n",
    "X_train[\"BMI\"] = (X_train[\"BMI\"] - BMI_min) / (BMI_max - BMI_min)\n",
    "X_test[\"BMI\"] = (X_test[\"BMI\"] - BMI_min) / (BMI_max - BMI_min)\n",
    "\n",
    "## Random oversampling using random seed\n",
    "## Define oversampling strategy: default, 'auto': equivalent to 'not majority'\n",
    "oversample = RandomOverSampler(random_state=r_seed)\n",
    "os_data_X, os_data_y = oversample.fit_resample(X_train, y_train)\n",
    "os_data_X = pd.DataFrame(data=os_data_X, columns=columns)\n",
    "os_data_y= pd.DataFrame(data=os_data_y, columns=['hospitalized_or_IMV_or_death'])\n",
    "\n",
    "\n",
    "# define undersample strategy: “majority” will undersample the majority class determined by the class with the largest number of examples.\n",
    "# undersample = RandomUnderSampler(sampling_strategy='majority', random_state=r_seed)\n",
    "# us_data_X, us_data_y = undersample.fit_resample(X_train, y_train)\n",
    "# us_data_X = pd.DataFrame(data=us_data_X, columns=columns)\n",
    "# us_data_y= pd.DataFrame(data=us_data_y, columns=['hospitalized_or_IMV_or_death'])\n",
    "\n",
    "\n",
    "# we can Check the numbers of our data\n",
    "# print(\"length of oversampled data is \",len(os_data_X))\n",
    "# print(\"Number of no hos in oversampled data\",len(os_data_y[os_data_y['hospitalized_after_positive']==0]))\n",
    "# print(\"Number of hos\",len(os_data_y[os_data_y['hospitalized_after_positive']==1]))\n",
    "# print(\"Proportion of no hos data in oversampled data is \",len(os_data_y[os_data_y['hospitalized_after_positive']==0])/len(os_data_X))\n",
    "# print(\"Proportion of hos data in oversampled data is \",len(os_data_y[os_data_y['hospitalized_after_positive']==1])/len(os_data_X))"
   ]
  },
  {
   "cell_type": "code",
   "execution_count": 0,
   "metadata": {
    "application/vnd.databricks.v1+cell": {
     "cellMetadata": {
      "byteLimit": 2048000,
      "rowLimit": 10000
     },
     "inputWidgets": {},
     "nuid": "9d39999b-367f-4e02-848c-642af632572c",
     "showTitle": false,
     "title": ""
    }
   },
   "outputs": [
    {
     "output_type": "stream",
     "name": "stderr",
     "output_type": "stream",
     "text": [
      "Maximum Likelihood optimization failed to converge. Check mle_retvals\n"
     ]
    },
    {
     "output_type": "stream",
     "name": "stdout",
     "output_type": "stream",
     "text": [
      "                                Logit Regression Results                                \n========================================================================================\nDep. Variable:     hospitalized_or_IMV_or_death   No. Observations:               190022\nModel:                                    Logit   Df Residuals:                   189965\nMethod:                                     MLE   Df Model:                           56\nDate:                          Wed, 03 May 2023   Pseudo R-squ.:                 0.09579\nTime:                                  00:02:59   Log-Likelihood:            -1.1910e+05\nconverged:                                False   LL-Null:                   -1.3171e+05\nCovariance Type:                      nonrobust   LLR p-value:                     0.000\n================================================================================================\n                                   coef    std err          z      P>|z|      [0.025      0.975]\n------------------------------------------------------------------------------------------------\nage                              0.8758      0.018     49.459      0.000       0.841       0.911\nBMI                             -0.4633      1.412     -0.328      0.743      -3.231       2.305\nsex:male                        -0.3620      0.010    -37.783      0.000      -0.381      -0.343\nhypertension                    -0.1002      0.013     -7.432      0.000      -0.127      -0.074\ndiabetes (type 1+2)              0.3164      0.016     20.262      0.000       0.286       0.347\natrial fibrillation              0.6049      0.020     30.077      0.000       0.565       0.644\ncoronary artery disease          0.1571      0.020      7.825      0.000       0.118       0.197\nheart failure                    0.7074      0.021     34.246      0.000       0.667       0.748\nchronic kidney disease           0.6358      0.018     34.370      0.000       0.600       0.672\nCOPD                             0.6576      0.021     30.620      0.000       0.615       0.700\nchronic liver disease            0.4188      0.035     11.954      0.000       0.350       0.487\nmalignant neoplastic disease     0.2270      0.015     14.796      0.000       0.197       0.257\nHIV                              0.7193      0.095      7.587      0.000       0.533       0.905\nhistory of transplant            0.2745      0.116      2.369      0.018       0.047       0.502\nstroke                           0.7478      0.028     27.121      0.000       0.694       0.802\nopioid dependence                0.3394      0.035      9.637      0.000       0.270       0.408\nfully vaccinated                -0.6718      0.012    -56.753      0.000      -0.695      -0.649\nboosted                         -0.7476      0.013    -55.662      0.000      -0.774      -0.721\nasthma                          -0.7015      0.017    -42.108      0.000      -0.734      -0.669\ninflammatory bowel disease       0.0893      0.051      1.757      0.079      -0.010       0.189\nrheumatoid arthritis             0.1973      0.042      4.743      0.000       0.116       0.279\nmultiple sclerosis               0.1865      0.071      2.645      0.008       0.048       0.325\npsoriatic arthritis             -0.3927      0.090     -4.386      0.000      -0.568      -0.217\npsoriasis                       -0.2618      0.043     -6.075      0.000      -0.346      -0.177\nsystemic sclerosis              -0.1139      0.166     -0.685      0.493      -0.440       0.212\nspondyloarthritis               -0.6764      0.052    -12.933      0.000      -0.779      -0.574\nsystemic lupus                  -0.1037      0.069     -1.498      0.134      -0.239       0.032\nvasculitis                       0.4383      0.118      3.701      0.000       0.206       0.670\nsarcoidosis                     -0.1479      0.110     -1.345      0.179      -0.363       0.068\nantiphospholipid syndrome       -0.5294      0.147     -3.607      0.000      -0.817      -0.242\nSjögren syndrome                -0.0843      0.092     -0.914      0.361      -0.265       0.097\nhydroxychloroquine              -0.6741      0.101     -6.672      0.000      -0.872      -0.476\nmethotrexate                     0.0112      0.100      0.112      0.911      -0.186       0.208\nleflunomide teriflunomide       -0.3466      0.215     -1.612      0.107      -0.768       0.075\n5-ASA                            0.1962      0.139      1.416      0.157      -0.075       0.468\nazathioprine                     0.2354      0.186      1.268      0.205      -0.128       0.599\nmercaptopurine                  -0.3883      0.465     -0.836      0.403      -1.299       0.523\nmycophenolate                   -0.4856      0.265     -1.834      0.067      -1.004       0.033\ncalcineurin inhibitor            0.0298      0.118      0.252      0.801      -0.202       0.261\nTNF-α inhibitor                 -0.3856      0.136     -2.843      0.004      -0.651      -0.120\nfumarates                       -0.0884      0.469     -0.188      0.851      -1.008       0.831\ninterferons                     -0.0935      1.173     -0.080      0.936      -2.393       2.206\nalkylating agent                 0.2620      0.451      0.581      0.561      -0.622       1.146\nhydroxyurea                     -0.5587      0.307     -1.822      0.068      -1.160       0.042\ndapsone                          0.5061      0.305      1.657      0.097      -0.092       1.105\nIL-6 inhibitor                  -0.1518      0.467     -0.325      0.745      -1.066       0.763\nIL-12/23 inhibitor              -0.5748      0.469     -1.225      0.221      -1.495       0.345\nIL-17 inhibitor                 -0.3782      0.366     -1.032      0.302      -1.096       0.340\nIL-23 inhibitor                 -0.1484      0.866     -0.171      0.864      -1.846       1.549\nabatacept                       -0.0365      0.305     -0.120      0.905      -0.634       0.561\nS1P receptor modulator          -0.0937      0.447     -0.210      0.834      -0.969       0.782\nJAK inhibitor                    0.1815      0.251      0.723      0.470      -0.311       0.674\nPDE4i targeted synthetic        -0.2111      0.572     -0.369      0.712      -1.333       0.910\nanti-CD20                        0.0249      0.416      0.060      0.952      -0.790       0.839\nbudesonide                      -0.4700      0.111     -4.240      0.000      -0.687      -0.253\nsystemic glucocorticoids        -0.1274      0.019     -6.617      0.000      -0.165      -0.090\npaxlovid                        -0.7445      0.156     -4.770      0.000      -1.050      -0.439\n================================================================================================\n"
     ]
    },
    {
     "output_type": "stream",
     "name": "stderr",
     "output_type": "stream",
     "text": [
      "Maximum Likelihood optimization failed to converge. Check mle_retvals\n\nA value is trying to be set on a copy of a slice from a DataFrame\n\nSee the caveats in the documentation: https://pandas.pydata.org/pandas-docs/stable/user_guide/indexing.html#returning-a-view-versus-a-copy\n"
     ]
    },
    {
     "output_type": "display_data",
     "data": {
      "text/html": [
       "<style scoped>\n",
       "  .table-result-container {\n",
       "    max-height: 300px;\n",
       "    overflow: auto;\n",
       "  }\n",
       "  table, th, td {\n",
       "    border: 1px solid black;\n",
       "    border-collapse: collapse;\n",
       "  }\n",
       "  th, td {\n",
       "    padding: 5px;\n",
       "  }\n",
       "  th {\n",
       "    text-align: left;\n",
       "  }\n",
       "</style><div class='table-result-container'><table class='table-result'><thead style='background-color: white'><tr><th>Feature</th><th>Feature Importance</th><th>Odds ratio</th><th>lower</th><th>upper</th><th>Pvalue</th><th>Pvalue_FDR_corrected</th></tr></thead><tbody><tr><td>age</td><td>0.9105073731615594</td><td>0.8758</td><td>0.841</td><td>0.911</td><td>0.0</td><td>0.0</td></tr><tr><td>BMI</td><td>2.3046726612445085</td><td>-0.4633</td><td>-3.231</td><td>2.305</td><td>0.564</td><td>1.0</td></tr><tr><td>sex:male</td><td>0.3432319713169585</td><td>-0.362</td><td>-0.381</td><td>-0.343</td><td>0.0</td><td>0.0</td></tr><tr><td>hypertension</td><td>0.07376782545738739</td><td>-0.1002</td><td>-0.127</td><td>-0.074</td><td>0.0</td><td>0.0</td></tr><tr><td>diabetes (type 1+2)</td><td>0.34699802537678665</td><td>0.3164</td><td>0.286</td><td>0.347</td><td>0.0</td><td>0.0</td></tr><tr><td>atrial fibrillation</td><td>0.6442815026313677</td><td>0.6049</td><td>0.565</td><td>0.644</td><td>0.0</td><td>0.0</td></tr><tr><td>coronary artery disease</td><td>0.19650674821418193</td><td>0.1571</td><td>0.118</td><td>0.197</td><td>0.0</td><td>0.0</td></tr><tr><td>heart failure</td><td>0.7478368676351222</td><td>0.7074</td><td>0.667</td><td>0.748</td><td>0.0</td><td>0.0</td></tr><tr><td>chronic kidney disease</td><td>0.6720165588437568</td><td>0.6358</td><td>0.6</td><td>0.672</td><td>0.0</td><td>0.0</td></tr><tr><td>COPD</td><td>0.6996733985919064</td><td>0.6576</td><td>0.615</td><td>0.7</td><td>0.0</td><td>0.0</td></tr><tr><td>chronic liver disease</td><td>0.48745195083339743</td><td>0.4188</td><td>0.35</td><td>0.487</td><td>0.0</td><td>0.0</td></tr><tr><td>malignant neoplastic disease</td><td>0.2570934803185224</td><td>0.227</td><td>0.197</td><td>0.257</td><td>0.0</td><td>0.0</td></tr><tr><td>HIV</td><td>0.905121264446877</td><td>0.7193</td><td>0.533</td><td>0.905</td><td>0.0</td><td>0.0</td></tr><tr><td>history of transplant</td><td>0.5015870315074638</td><td>0.2745</td><td>0.047</td><td>0.502</td><td>0.7</td><td>1.0</td></tr><tr><td>stroke</td><td>0.8018807655124265</td><td>0.7478</td><td>0.694</td><td>0.802</td><td>0.0</td><td>0.0</td></tr><tr><td>opioid dependence</td><td>0.40836650698203497</td><td>0.3394</td><td>0.27</td><td>0.408</td><td>0.029</td><td>0.29429841705602616</td></tr><tr><td>fully vaccinated</td><td>0.6485999731808769</td><td>-0.6718</td><td>-0.695</td><td>-0.649</td><td>0.0</td><td>0.0</td></tr><tr><td>boosted</td><td>0.7213147881773706</td><td>-0.7476</td><td>-0.774</td><td>-0.721</td><td>0.0</td><td>0.0</td></tr><tr><td>asthma</td><td>0.6688105859837306</td><td>-0.7015</td><td>-0.734</td><td>-0.669</td><td>0.0</td><td>0.0</td></tr><tr><td>inflammatory bowel disease</td><td>0.18899092177205268</td><td>0.0893</td><td>-0.01</td><td>0.189</td><td>0.532</td><td>1.0</td></tr><tr><td>rheumatoid arthritis</td><td>0.27879695299237117</td><td>0.1973</td><td>0.116</td><td>0.279</td><td>0.004</td><td>0.04397562553710735</td></tr><tr><td>multiple sclerosis</td><td>0.32463179475172593</td><td>0.1865</td><td>0.048</td><td>0.325</td><td>0.26</td><td>1.0</td></tr><tr><td>psoriatic arthritis</td><td>0.21722382071229324</td><td>-0.3927</td><td>-0.568</td><td>-0.217</td><td>0.002</td><td>0.02512892887834706</td></tr><tr><td>psoriasis</td><td>0.17735672023268906</td><td>-0.2618</td><td>-0.346</td><td>-0.177</td><td>0.0</td><td>0.0</td></tr><tr><td>systemic sclerosis</td><td>0.21179729910080686</td><td>-0.1139</td><td>-0.44</td><td>0.212</td><td>0.635</td><td>1.0</td></tr><tr><td>spondyloarthritis</td><td>0.573934613294518</td><td>-0.6764</td><td>-0.779</td><td>-0.574</td><td>0.0</td><td>0.0</td></tr><tr><td>systemic lupus</td><td>0.0319448269954163</td><td>-0.1037</td><td>-0.239</td><td>0.032</td><td>0.004</td><td>0.04397562553710735</td></tr><tr><td>vasculitis</td><td>0.6704481539920775</td><td>0.4383</td><td>0.206</td><td>0.67</td><td>0.728</td><td>1.0</td></tr><tr><td>sarcoidosis</td><td>0.06760159902456267</td><td>-0.1479</td><td>-0.363</td><td>0.068</td><td>0.236</td><td>1.0</td></tr><tr><td>antiphospholipid syndrome</td><td>0.24175408538406623</td><td>-0.5294</td><td>-0.817</td><td>-0.242</td><td>0.004</td><td>0.04397562553710735</td></tr><tr><td>Sjögren syndrome</td><td>0.09660784277839107</td><td>-0.0843</td><td>-0.265</td><td>0.097</td><td>0.465</td><td>1.0</td></tr><tr><td>hydroxychloroquine</td><td>0.47605008263139814</td><td>-0.6741</td><td>-0.872</td><td>-0.476</td><td>0.002</td><td>0.02512892887834706</td></tr><tr><td>methotrexate</td><td>0.2079764448187123</td><td>0.0112</td><td>-0.186</td><td>0.208</td><td>0.764</td><td>1.0</td></tr><tr><td>leflunomide teriflunomide</td><td>0.07492410679670264</td><td>-0.3466</td><td>-0.768</td><td>0.075</td><td>0.528</td><td>1.0</td></tr><tr><td>5-ASA</td><td>0.4679396968709775</td><td>0.1962</td><td>-0.075</td><td>0.468</td><td>0.187</td><td>1.0</td></tr><tr><td>azathioprine</td><td>0.5991710039661008</td><td>0.2354</td><td>-0.128</td><td>0.599</td><td>0.847</td><td>1.0</td></tr><tr><td>mercaptopurine</td><td>0.5225463900204833</td><td>-0.3883</td><td>-1.299</td><td>0.523</td><td>0.347</td><td>1.0</td></tr><tr><td>mycophenolate</td><td>0.03326159882029239</td><td>-0.4856</td><td>-1.004</td><td>0.033</td><td>0.399</td><td>1.0</td></tr><tr><td>calcineurin inhibitor</td><td>0.26129005117005105</td><td>0.0298</td><td>-0.202</td><td>0.261</td><td>0.331</td><td>1.0</td></tr><tr><td>TNF-α inhibitor</td><td>0.11975212745570996</td><td>-0.3856</td><td>-0.651</td><td>-0.12</td><td>0.035</td><td>0.34203264306639053</td></tr><tr><td>fumarates</td><td>0.831181749804448</td><td>-0.0884</td><td>-1.008</td><td>0.831</td><td>0.99</td><td>1.0</td></tr><tr><td>interferons</td><td>2.2060861200649207</td><td>-0.0935</td><td>-2.393</td><td>2.206</td><td>0.983</td><td>1.0</td></tr><tr><td>alkylating agent</td><td>1.145937590186929</td><td>0.262</td><td>-0.622</td><td>1.146</td><td>0.639</td><td>1.0</td></tr><tr><td>hydroxyurea</td><td>0.042327504274388694</td><td>-0.5587</td><td>-1.16</td><td>0.042</td><td>0.288</td><td>1.0</td></tr><tr><td>dapsone</td><td>1.1045974904748856</td><td>0.5061</td><td>-0.092</td><td>1.105</td><td>0.506</td><td>1.0</td></tr><tr><td>IL-6 inhibitor</td><td>0.7625871300553246</td><td>-0.1518</td><td>-1.066</td><td>0.763</td><td>0.826</td><td>1.0</td></tr><tr><td>IL-12/23 inhibitor</td><td>0.3451105283820549</td><td>-0.5748</td><td>-1.495</td><td>0.345</td><td>0.388</td><td>1.0</td></tr><tr><td>IL-17 inhibitor</td><td>0.3399145394635412</td><td>-0.3782</td><td>-1.096</td><td>0.34</td><td>0.652</td><td>1.0</td></tr><tr><td>IL-23 inhibitor</td><td>1.549220066350676</td><td>-0.1484</td><td>-1.846</td><td>1.549</td><td>0.929</td><td>1.0</td></tr><tr><td>abatacept</td><td>0.5608562361055967</td><td>-0.0365</td><td>-0.634</td><td>0.561</td><td>0.769</td><td>1.0</td></tr><tr><td>S1P receptor modulator</td><td>0.7815153946312446</td><td>-0.0937</td><td>-0.969</td><td>0.782</td><td>0.977</td><td>1.0</td></tr><tr><td>JAK inhibitor</td><td>0.6735132612627589</td><td>0.1815</td><td>-0.311</td><td>0.674</td><td>0.859</td><td>1.0</td></tr><tr><td>PDE4i targeted synthetic</td><td>0.9103261280302694</td><td>-0.2111</td><td>-1.333</td><td>0.91</td><td>0.887</td><td>1.0</td></tr><tr><td>anti-CD20</td><td>0.8394836950822697</td><td>0.0249</td><td>-0.79</td><td>0.839</td><td>0.987</td><td>1.0</td></tr><tr><td>budesonide</td><td>0.2527435157871849</td><td>-0.47</td><td>-0.687</td><td>-0.253</td><td>0.074</td><td>0.6973277763741308</td></tr><tr><td>systemic glucocorticoids</td><td>0.08967409155480305</td><td>-0.1274</td><td>-0.165</td><td>-0.09</td><td>0.0</td><td>0.0</td></tr><tr><td>paxlovid</td><td>0.43858565017402107</td><td>-0.7445</td><td>-1.05</td><td>-0.439</td><td>0.017</td><td>0.17942055219139802</td></tr></tbody></table></div>"
      ]
     },
     "metadata": {
      "application/vnd.databricks.v1+output": {
       "addedWidgets": {},
       "aggData": [],
       "aggError": "",
       "aggOverflow": false,
       "aggSchema": [],
       "aggSeriesLimitReached": false,
       "aggType": "",
       "arguments": {},
       "columnCustomDisplayInfos": {},
       "data": [
        [
         "age",
         0.9105073731615594,
         0.8758,
         0.841,
         0.911,
         0.0,
         0.0
        ],
        [
         "BMI",
         2.3046726612445085,
         -0.4633,
         -3.231,
         2.305,
         0.564,
         1.0
        ],
        [
         "sex:male",
         0.3432319713169585,
         -0.362,
         -0.381,
         -0.343,
         0.0,
         0.0
        ],
        [
         "hypertension",
         0.07376782545738739,
         -0.1002,
         -0.127,
         -0.074,
         0.0,
         0.0
        ],
        [
         "diabetes (type 1+2)",
         0.34699802537678665,
         0.3164,
         0.286,
         0.347,
         0.0,
         0.0
        ],
        [
         "atrial fibrillation",
         0.6442815026313677,
         0.6049,
         0.565,
         0.644,
         0.0,
         0.0
        ],
        [
         "coronary artery disease",
         0.19650674821418193,
         0.1571,
         0.118,
         0.197,
         0.0,
         0.0
        ],
        [
         "heart failure",
         0.7478368676351222,
         0.7074,
         0.667,
         0.748,
         0.0,
         0.0
        ],
        [
         "chronic kidney disease",
         0.6720165588437568,
         0.6358,
         0.6,
         0.672,
         0.0,
         0.0
        ],
        [
         "COPD",
         0.6996733985919064,
         0.6576,
         0.615,
         0.7,
         0.0,
         0.0
        ],
        [
         "chronic liver disease",
         0.48745195083339743,
         0.4188,
         0.35,
         0.487,
         0.0,
         0.0
        ],
        [
         "malignant neoplastic disease",
         0.2570934803185224,
         0.227,
         0.197,
         0.257,
         0.0,
         0.0
        ],
        [
         "HIV",
         0.905121264446877,
         0.7193,
         0.533,
         0.905,
         0.0,
         0.0
        ],
        [
         "history of transplant",
         0.5015870315074638,
         0.2745,
         0.047,
         0.502,
         0.7,
         1.0
        ],
        [
         "stroke",
         0.8018807655124265,
         0.7478,
         0.694,
         0.802,
         0.0,
         0.0
        ],
        [
         "opioid dependence",
         0.40836650698203497,
         0.3394,
         0.27,
         0.408,
         0.029,
         0.29429841705602616
        ],
        [
         "fully vaccinated",
         0.6485999731808769,
         -0.6718,
         -0.695,
         -0.649,
         0.0,
         0.0
        ],
        [
         "boosted",
         0.7213147881773706,
         -0.7476,
         -0.774,
         -0.721,
         0.0,
         0.0
        ],
        [
         "asthma",
         0.6688105859837306,
         -0.7015,
         -0.734,
         -0.669,
         0.0,
         0.0
        ],
        [
         "inflammatory bowel disease",
         0.18899092177205268,
         0.0893,
         -0.01,
         0.189,
         0.532,
         1.0
        ],
        [
         "rheumatoid arthritis",
         0.27879695299237117,
         0.1973,
         0.116,
         0.279,
         0.004,
         0.04397562553710735
        ],
        [
         "multiple sclerosis",
         0.32463179475172593,
         0.1865,
         0.048,
         0.325,
         0.26,
         1.0
        ],
        [
         "psoriatic arthritis",
         0.21722382071229324,
         -0.3927,
         -0.568,
         -0.217,
         0.002,
         0.02512892887834706
        ],
        [
         "psoriasis",
         0.17735672023268906,
         -0.2618,
         -0.346,
         -0.177,
         0.0,
         0.0
        ],
        [
         "systemic sclerosis",
         0.21179729910080686,
         -0.1139,
         -0.44,
         0.212,
         0.635,
         1.0
        ],
        [
         "spondyloarthritis",
         0.573934613294518,
         -0.6764,
         -0.779,
         -0.574,
         0.0,
         0.0
        ],
        [
         "systemic lupus",
         0.0319448269954163,
         -0.1037,
         -0.239,
         0.032,
         0.004,
         0.04397562553710735
        ],
        [
         "vasculitis",
         0.6704481539920775,
         0.4383,
         0.206,
         0.67,
         0.728,
         1.0
        ],
        [
         "sarcoidosis",
         0.06760159902456267,
         -0.1479,
         -0.363,
         0.068,
         0.236,
         1.0
        ],
        [
         "antiphospholipid syndrome",
         0.24175408538406623,
         -0.5294,
         -0.817,
         -0.242,
         0.004,
         0.04397562553710735
        ],
        [
         "Sjögren syndrome",
         0.09660784277839107,
         -0.0843,
         -0.265,
         0.097,
         0.465,
         1.0
        ],
        [
         "hydroxychloroquine",
         0.47605008263139814,
         -0.6741,
         -0.872,
         -0.476,
         0.002,
         0.02512892887834706
        ],
        [
         "methotrexate",
         0.2079764448187123,
         0.0112,
         -0.186,
         0.208,
         0.764,
         1.0
        ],
        [
         "leflunomide teriflunomide",
         0.07492410679670264,
         -0.3466,
         -0.768,
         0.075,
         0.528,
         1.0
        ],
        [
         "5-ASA",
         0.4679396968709775,
         0.1962,
         -0.075,
         0.468,
         0.187,
         1.0
        ],
        [
         "azathioprine",
         0.5991710039661008,
         0.2354,
         -0.128,
         0.599,
         0.847,
         1.0
        ],
        [
         "mercaptopurine",
         0.5225463900204833,
         -0.3883,
         -1.299,
         0.523,
         0.347,
         1.0
        ],
        [
         "mycophenolate",
         0.03326159882029239,
         -0.4856,
         -1.004,
         0.033,
         0.399,
         1.0
        ],
        [
         "calcineurin inhibitor",
         0.26129005117005105,
         0.0298,
         -0.202,
         0.261,
         0.331,
         1.0
        ],
        [
         "TNF-α inhibitor",
         0.11975212745570996,
         -0.3856,
         -0.651,
         -0.12,
         0.035,
         0.34203264306639053
        ],
        [
         "fumarates",
         0.831181749804448,
         -0.0884,
         -1.008,
         0.831,
         0.99,
         1.0
        ],
        [
         "interferons",
         2.2060861200649207,
         -0.0935,
         -2.393,
         2.206,
         0.983,
         1.0
        ],
        [
         "alkylating agent",
         1.145937590186929,
         0.262,
         -0.622,
         1.146,
         0.639,
         1.0
        ],
        [
         "hydroxyurea",
         0.042327504274388694,
         -0.5587,
         -1.16,
         0.042,
         0.288,
         1.0
        ],
        [
         "dapsone",
         1.1045974904748856,
         0.5061,
         -0.092,
         1.105,
         0.506,
         1.0
        ],
        [
         "IL-6 inhibitor",
         0.7625871300553246,
         -0.1518,
         -1.066,
         0.763,
         0.826,
         1.0
        ],
        [
         "IL-12/23 inhibitor",
         0.3451105283820549,
         -0.5748,
         -1.495,
         0.345,
         0.388,
         1.0
        ],
        [
         "IL-17 inhibitor",
         0.3399145394635412,
         -0.3782,
         -1.096,
         0.34,
         0.652,
         1.0
        ],
        [
         "IL-23 inhibitor",
         1.549220066350676,
         -0.1484,
         -1.846,
         1.549,
         0.929,
         1.0
        ],
        [
         "abatacept",
         0.5608562361055967,
         -0.0365,
         -0.634,
         0.561,
         0.769,
         1.0
        ],
        [
         "S1P receptor modulator",
         0.7815153946312446,
         -0.0937,
         -0.969,
         0.782,
         0.977,
         1.0
        ],
        [
         "JAK inhibitor",
         0.6735132612627589,
         0.1815,
         -0.311,
         0.674,
         0.859,
         1.0
        ],
        [
         "PDE4i targeted synthetic",
         0.9103261280302694,
         -0.2111,
         -1.333,
         0.91,
         0.887,
         1.0
        ],
        [
         "anti-CD20",
         0.8394836950822697,
         0.0249,
         -0.79,
         0.839,
         0.987,
         1.0
        ],
        [
         "budesonide",
         0.2527435157871849,
         -0.47,
         -0.687,
         -0.253,
         0.074,
         0.6973277763741308
        ],
        [
         "systemic glucocorticoids",
         0.08967409155480305,
         -0.1274,
         -0.165,
         -0.09,
         0.0,
         0.0
        ],
        [
         "paxlovid",
         0.43858565017402107,
         -0.7445,
         -1.05,
         -0.439,
         0.017,
         0.17942055219139802
        ]
       ],
       "datasetInfos": [],
       "dbfsResultPath": null,
       "isJsonSchema": true,
       "metadata": {},
       "overflow": false,
       "plotOptions": {
        "customPlotOptions": {},
        "displayType": "table",
        "pivotAggregation": null,
        "pivotColumns": null,
        "xColumns": null,
        "yColumns": null
       },
       "removedWidgets": [],
       "schema": [
        {
         "metadata": "{}",
         "name": "Feature",
         "type": "\"string\""
        },
        {
         "metadata": "{}",
         "name": "Feature Importance",
         "type": "\"double\""
        },
        {
         "metadata": "{}",
         "name": "Odds ratio",
         "type": "\"double\""
        },
        {
         "metadata": "{}",
         "name": "lower",
         "type": "\"double\""
        },
        {
         "metadata": "{}",
         "name": "upper",
         "type": "\"double\""
        },
        {
         "metadata": "{}",
         "name": "Pvalue",
         "type": "\"double\""
        },
        {
         "metadata": "{}",
         "name": "Pvalue_FDR_corrected",
         "type": "\"double\""
        }
       ],
       "type": "table"
      }
     },
     "output_type": "display_data"
    }
   ],
   "source": [
    "hos_IMV_death_result_df, os_LR_statmodel = multivariate_LR_model_result(os_data_X, os_data_y, X_train, y_train, opt_method)\n",
    "display(hos_IMV_death_result_df)"
   ]
  },
  {
   "cell_type": "code",
   "execution_count": 0,
   "metadata": {
    "application/vnd.databricks.v1+cell": {
     "cellMetadata": {
      "byteLimit": 2048000,
      "rowLimit": 10000
     },
     "inputWidgets": {},
     "nuid": "ff8c3d0f-9150-404b-a06c-ff47c92b29c7",
     "showTitle": false,
     "title": ""
    }
   },
   "outputs": [
    {
     "output_type": "stream",
     "name": "stdout",
     "output_type": "stream",
     "text": [
      "Auroc on test data set: 0.70918\n"
     ]
    }
   ],
   "source": [
    "from sklearn.metrics import roc_auc_score\n",
    "LR_model_binaryclass_auroc = binary_class_roc_auc_score(y_test, os_LR_statmodel.predict(X_test))\n",
    "\n",
    "print(\"Auroc on test data set: %0.5f\" % (LR_model_binaryclass_auroc))"
   ]
  },
  {
   "cell_type": "markdown",
   "metadata": {
    "application/vnd.databricks.v1+cell": {
     "cellMetadata": {
      "byteLimit": 2048000,
      "rowLimit": 10000
     },
     "inputWidgets": {},
     "nuid": "90223830-afce-493c-8589-26ce6191d19d",
     "showTitle": false,
     "title": ""
    }
   },
   "source": [
    "## Response == \"IMV_or_death\""
   ]
  },
  {
   "cell_type": "code",
   "execution_count": 0,
   "metadata": {
    "application/vnd.databricks.v1+cell": {
     "cellMetadata": {
      "byteLimit": 2048000,
      "rowLimit": 10000
     },
     "inputWidgets": {},
     "nuid": "74db3717-0189-4a42-91fa-913b758089e1",
     "showTitle": false,
     "title": ""
    }
   },
   "outputs": [
    {
     "output_type": "stream",
     "name": "stdout",
     "output_type": "stream",
     "text": [
      "unique labels from y:  [0 1]\n"
     ]
    }
   ],
   "source": [
    "from imblearn.over_sampling import RandomOverSampler\n",
    "from imblearn.under_sampling import RandomUnderSampler\n",
    "\n",
    "###############################################################################\n",
    "## Current Y as response\n",
    "## Notice: need manual check\n",
    "## Possible options: hospitalized, invasive_mechanical_vent, death, results\n",
    "################################################################################\n",
    "\n",
    "select_col = 'IMV_or_death'\n",
    "Y = train_df_Y_new[select_col]\n",
    "# Y = Y.map(dict(yes=1, no=0))\n",
    "\n",
    "class_names = np.unique(Y)\n",
    "print(\"unique labels from y: \", class_names)\n",
    "\n",
    "## Train test split use r_seed assigned in CMD 1\n",
    "X = train_df_X\n",
    "X_train, X_test, y_train, y_test = train_test_split(X, Y, test_size=0.1, random_state=r_seed, stratify = Y)\n",
    "columns = X_train.columns\n",
    "\n",
    "## Normalize after the train/test split to avoid any potential data leakage\n",
    "## using the min and max from the trainset to do minmax on test set\n",
    "age_min, age_max = X_train[\"age\"].min(), X_train[\"age\"].max()\n",
    "X_train[\"age\"] = (X_train[\"age\"] - age_min) / (age_max - age_min)\n",
    "X_test[\"age\"] = (X_test[\"age\"] - age_min) / (age_max - age_min)\n",
    "\n",
    "BMI_min, BMI_max = X_train[\"BMI\"].min(), X_train[\"BMI\"].max()\n",
    "X_train[\"BMI\"] = (X_train[\"BMI\"] - BMI_min) / (BMI_max - BMI_min)\n",
    "X_test[\"BMI\"] = (X_test[\"BMI\"] - BMI_min) / (BMI_max - BMI_min)\n",
    "\n",
    "## Random oversampling using random seed\n",
    "## Define oversampling strategy: default, 'auto': equivalent to 'not majority'\n",
    "oversample = RandomOverSampler(random_state=r_seed)\n",
    "os_data_X, os_data_y = oversample.fit_resample(X_train, y_train)\n",
    "os_data_X = pd.DataFrame(data=os_data_X, columns=columns)\n",
    "os_data_y= pd.DataFrame(data=os_data_y, columns=['IMV_or_death'])\n",
    "\n",
    "\n",
    "# define undersample strategy: “majority” will undersample the majority class determined by the class with the largest number of examples.\n",
    "# undersample = RandomUnderSampler(sampling_strategy='majority', random_state=r_seed)\n",
    "# us_data_X, us_data_y = undersample.fit_resample(X_train, y_train)\n",
    "# us_data_X = pd.DataFrame(data=us_data_X, columns=columns)\n",
    "# us_data_y= pd.DataFrame(data=us_data_y, columns=['IMV_or_death'])\n",
    "\n",
    "\n",
    "# we can Check the numbers of our data\n",
    "# print(\"length of oversampled data is \",len(os_data_X))\n",
    "# print(\"Number of no hos in oversampled data\",len(os_data_y[os_data_y['hospitalized_after_positive']==0]))\n",
    "# print(\"Number of hos\",len(os_data_y[os_data_y['hospitalized_after_positive']==1]))\n",
    "# print(\"Proportion of no hos data in oversampled data is \",len(os_data_y[os_data_y['hospitalized_after_positive']==0])/len(os_data_X))\n",
    "# print(\"Proportion of hos data in oversampled data is \",len(os_data_y[os_data_y['hospitalized_after_positive']==1])/len(os_data_X))"
   ]
  },
  {
   "cell_type": "code",
   "execution_count": 0,
   "metadata": {
    "application/vnd.databricks.v1+cell": {
     "cellMetadata": {
      "byteLimit": 2048000,
      "rowLimit": 10000
     },
     "inputWidgets": {},
     "nuid": "343e1433-b2ec-4fc5-a942-5908aa3070eb",
     "showTitle": false,
     "title": ""
    }
   },
   "outputs": [
    {
     "output_type": "stream",
     "name": "stderr",
     "output_type": "stream",
     "text": [
      "Maximum Likelihood optimization failed to converge. Check mle_retvals\n"
     ]
    },
    {
     "output_type": "stream",
     "name": "stdout",
     "output_type": "stream",
     "text": [
      "                           Logit Regression Results                           \n==============================================================================\nDep. Variable:           IMV_or_death   No. Observations:               212974\nModel:                          Logit   Df Residuals:                   212917\nMethod:                           MLE   Df Model:                           56\nDate:                Wed, 03 May 2023   Pseudo R-squ.:                  0.1633\nTime:                        00:03:13   Log-Likelihood:            -1.2352e+05\nconverged:                      False   LL-Null:                   -1.4762e+05\nCovariance Type:            nonrobust   LLR p-value:                     0.000\n================================================================================================\n                                   coef    std err          z      P>|z|      [0.025      0.975]\n------------------------------------------------------------------------------------------------\nage                              0.7508      0.016     45.959      0.000       0.719       0.783\nBMI                             -0.5792      1.309     -0.443      0.658      -3.144       1.986\nsex:male                        -0.2565      0.009    -27.349      0.000      -0.275      -0.238\nhypertension                    -0.1728      0.013    -13.453      0.000      -0.198      -0.148\ndiabetes (type 1+2)              0.1801      0.015     12.042      0.000       0.151       0.209\natrial fibrillation              0.7726      0.018     44.132      0.000       0.738       0.807\ncoronary artery disease          0.3275      0.018     18.057      0.000       0.292       0.363\nheart failure                    0.9142      0.018     51.048      0.000       0.879       0.949\nchronic kidney disease           0.7014      0.016     42.514      0.000       0.669       0.734\nCOPD                             0.6872      0.019     35.618      0.000       0.649       0.725\nchronic liver disease            1.0282      0.031     33.472      0.000       0.968       1.088\nmalignant neoplastic disease     0.5912      0.014     41.722      0.000       0.563       0.619\nHIV                              0.1789      0.091      1.967      0.049       0.001       0.357\nhistory of transplant            0.3236      0.100      3.240      0.001       0.128       0.519\nstroke                           0.7495      0.024     31.453      0.000       0.703       0.796\nopioid dependence                0.1335      0.033      4.017      0.000       0.068       0.199\nfully vaccinated                -1.0625      0.012    -88.506      0.000      -1.086      -1.039\nboosted                         -1.1861      0.013    -87.993      0.000      -1.213      -1.160\nasthma                          -0.8701      0.017    -50.446      0.000      -0.904      -0.836\ninflammatory bowel disease       0.3267      0.047      6.891      0.000       0.234       0.420\nrheumatoid arthritis             0.2119      0.040      5.357      0.000       0.134       0.289\nmultiple sclerosis               0.2953      0.064      4.599      0.000       0.169       0.421\npsoriatic arthritis             -1.7874      0.122    -14.676      0.000      -2.026      -1.549\npsoriasis                       -0.2184      0.042     -5.149      0.000      -0.301      -0.135\nsystemic sclerosis              -0.4448      0.180     -2.469      0.014      -0.798      -0.092\nspondyloarthritis               -1.0531      0.056    -18.818      0.000      -1.163      -0.943\nsystemic lupus                  -0.2153      0.069     -3.115      0.002      -0.351      -0.080\nvasculitis                       0.5436      0.100      5.448      0.000       0.348       0.739\nsarcoidosis                     -0.1371      0.099     -1.385      0.166      -0.331       0.057\nantiphospholipid syndrome       -0.6928      0.144     -4.796      0.000      -0.976      -0.410\nSjögren syndrome                -0.3011      0.099     -3.054      0.002      -0.494      -0.108\nhydroxychloroquine               0.2025      0.089      2.280      0.023       0.028       0.377\nmethotrexate                     0.1249      0.098      1.281      0.200      -0.066       0.316\nleflunomide teriflunomide       -0.7093      0.227     -3.127      0.002      -1.154      -0.265\n5-ASA                           -0.1047      0.141     -0.743      0.457      -0.381       0.171\nazathioprine                     0.5261      0.176      2.983      0.003       0.180       0.872\nmercaptopurine                  -0.2642      0.375     -0.704      0.482      -1.000       0.472\nmycophenolate                   -0.2946      0.234     -1.258      0.208      -0.753       0.164\ncalcineurin inhibitor           -0.3260      0.112     -2.902      0.004      -0.546      -0.106\nTNF-α inhibitor                 -0.1487      0.144     -1.032      0.302      -0.431       0.134\nfumarates                       -0.4147      0.564     -0.735      0.462      -1.520       0.691\ninterferons                     -0.0771      1.196     -0.064      0.949      -2.422       2.268\nalkylating agent                 0.0706      0.424      0.167      0.868      -0.760       0.901\nhydroxyurea                      0.4046      0.208      1.948      0.051      -0.002       0.812\ndapsone                          1.4461      0.250      5.784      0.000       0.956       1.936\nIL-6 inhibitor                   0.3304      0.313      1.055      0.291      -0.283       0.944\nIL-12/23 inhibitor              -0.5117      0.500     -1.023      0.306      -1.492       0.469\nIL-17 inhibitor                 -0.4688      0.549     -0.854      0.393      -1.545       0.607\nIL-23 inhibitor                 -0.1250      0.890     -0.140      0.888      -1.870       1.620\nabatacept                        0.2436      0.262      0.931      0.352      -0.269       0.757\nS1P receptor modulator           0.5885      0.306      1.921      0.055      -0.012       1.189\nJAK inhibitor                   -0.5117      0.249     -2.051      0.040      -1.001      -0.023\nPDE4i targeted synthetic        -0.0253      0.577     -0.044      0.965      -1.155       1.105\nanti-CD20                       -0.4208      0.610     -0.690      0.490      -1.616       0.774\nbudesonide                      -0.5244      0.107     -4.917      0.000      -0.734      -0.315\nsystemic glucocorticoids        -0.0941      0.018     -5.120      0.000      -0.130      -0.058\npaxlovid                        -2.3527      0.303     -7.770      0.000      -2.946      -1.759\n================================================================================================\n"
     ]
    },
    {
     "output_type": "stream",
     "name": "stderr",
     "output_type": "stream",
     "text": [
      "Maximum Likelihood optimization failed to converge. Check mle_retvals\n\nA value is trying to be set on a copy of a slice from a DataFrame\n\nSee the caveats in the documentation: https://pandas.pydata.org/pandas-docs/stable/user_guide/indexing.html#returning-a-view-versus-a-copy\n"
     ]
    },
    {
     "output_type": "display_data",
     "data": {
      "text/html": [
       "<style scoped>\n",
       "  .table-result-container {\n",
       "    max-height: 300px;\n",
       "    overflow: auto;\n",
       "  }\n",
       "  table, th, td {\n",
       "    border: 1px solid black;\n",
       "    border-collapse: collapse;\n",
       "  }\n",
       "  th, td {\n",
       "    padding: 5px;\n",
       "  }\n",
       "  th {\n",
       "    text-align: left;\n",
       "  }\n",
       "</style><div class='table-result-container'><table class='table-result'><thead style='background-color: white'><tr><th>Feature</th><th>Feature Importance</th><th>Odds ratio</th><th>lower</th><th>upper</th><th>Pvalue</th><th>Pvalue_FDR_corrected</th></tr></thead><tbody><tr><td>age</td><td>0.7827855099512444</td><td>0.7508</td><td>0.719</td><td>0.783</td><td>0.0</td><td>0.0</td></tr><tr><td>BMI</td><td>1.9861136224089069</td><td>-0.5792</td><td>-3.144</td><td>1.986</td><td>0.417</td><td>1.0</td></tr><tr><td>sex:male</td><td>0.23809592688683057</td><td>-0.2565</td><td>-0.275</td><td>-0.238</td><td>0.0</td><td>0.0</td></tr><tr><td>hypertension</td><td>0.14758406960181567</td><td>-0.1728</td><td>-0.198</td><td>-0.148</td><td>0.0</td><td>0.0</td></tr><tr><td>diabetes (type 1+2)</td><td>0.2093873217088023</td><td>0.1801</td><td>0.151</td><td>0.209</td><td>0.006</td><td>0.0879512510742147</td></tr><tr><td>atrial fibrillation</td><td>0.8069547917738142</td><td>0.7726</td><td>0.738</td><td>0.807</td><td>0.0</td><td>0.0</td></tr><tr><td>coronary artery disease</td><td>0.36309202749621705</td><td>0.3275</td><td>0.292</td><td>0.363</td><td>0.0</td><td>0.0</td></tr><tr><td>heart failure</td><td>0.9492697305717004</td><td>0.9142</td><td>0.879</td><td>0.949</td><td>0.0</td><td>0.0</td></tr><tr><td>chronic kidney disease</td><td>0.7337148000109475</td><td>0.7014</td><td>0.669</td><td>0.734</td><td>0.0</td><td>0.0</td></tr><tr><td>COPD</td><td>0.7250482265047398</td><td>0.6872</td><td>0.649</td><td>0.725</td><td>0.0</td><td>0.0</td></tr><tr><td>chronic liver disease</td><td>1.0883630845071368</td><td>1.0282</td><td>0.968</td><td>1.088</td><td>0.0</td><td>0.0</td></tr><tr><td>malignant neoplastic disease</td><td>0.6189270898216965</td><td>0.5912</td><td>0.563</td><td>0.619</td><td>0.0</td><td>0.0</td></tr><tr><td>HIV</td><td>0.3570760146081525</td><td>0.1789</td><td>0.001</td><td>0.357</td><td>0.413</td><td>1.0</td></tr><tr><td>history of transplant</td><td>0.5194019255470264</td><td>0.3236</td><td>0.128</td><td>0.519</td><td>0.304</td><td>1.0</td></tr><tr><td>stroke</td><td>0.7961678478865322</td><td>0.7495</td><td>0.703</td><td>0.796</td><td>0.0</td><td>0.0</td></tr><tr><td>opioid dependence</td><td>0.1986848134801152</td><td>0.1335</td><td>0.068</td><td>0.199</td><td>0.024</td><td>0.2753256555366721</td></tr><tr><td>fully vaccinated</td><td>1.0389855103660437</td><td>-1.0625</td><td>-1.086</td><td>-1.039</td><td>0.0</td><td>0.0</td></tr><tr><td>boosted</td><td>1.1597067444912081</td><td>-1.1861</td><td>-1.213</td><td>-1.16</td><td>0.0</td><td>0.0</td></tr><tr><td>asthma</td><td>0.8363324868396791</td><td>-0.8701</td><td>-0.904</td><td>-0.836</td><td>0.0</td><td>0.0</td></tr><tr><td>inflammatory bowel disease</td><td>0.41964802785519584</td><td>0.3267</td><td>0.234</td><td>0.42</td><td>0.695</td><td>1.0</td></tr><tr><td>rheumatoid arthritis</td><td>0.2894792591010161</td><td>0.2119</td><td>0.134</td><td>0.289</td><td>0.25</td><td>1.0</td></tr><tr><td>multiple sclerosis</td><td>0.4210987463428439</td><td>0.2953</td><td>0.169</td><td>0.421</td><td>0.421</td><td>1.0</td></tr><tr><td>psoriatic arthritis</td><td>1.5486663535668665</td><td>-1.7874</td><td>-2.026</td><td>-1.549</td><td>0.01</td><td>0.13192687661132207</td></tr><tr><td>psoriasis</td><td>0.13525141955941156</td><td>-0.2184</td><td>-0.301</td><td>-0.135</td><td>0.026</td><td>0.28584156599119775</td></tr><tr><td>systemic sclerosis</td><td>0.09173518854978407</td><td>-0.4448</td><td>-0.798</td><td>-0.092</td><td>0.351</td><td>1.0</td></tr><tr><td>spondyloarthritis</td><td>0.9433851351312075</td><td>-1.0531</td><td>-1.163</td><td>-0.943</td><td>0.011</td><td>0.1382091088309088</td></tr><tr><td>systemic lupus</td><td>0.07983722233255403</td><td>-0.2153</td><td>-0.351</td><td>-0.08</td><td>0.001</td><td>0.016490859576415256</td></tr><tr><td>vasculitis</td><td>0.7391090505191497</td><td>0.5436</td><td>0.348</td><td>0.739</td><td>0.51</td><td>1.0</td></tr><tr><td>sarcoidosis</td><td>0.05688519545116219</td><td>-0.1371</td><td>-0.331</td><td>0.057</td><td>0.891</td><td>1.0</td></tr><tr><td>antiphospholipid syndrome</td><td>0.409637408150924</td><td>-0.6928</td><td>-0.976</td><td>-0.41</td><td>0.076</td><td>0.7712648171123443</td></tr><tr><td>Sjögren syndrome</td><td>0.10785914775949884</td><td>-0.3011</td><td>-0.494</td><td>-0.108</td><td>0.135</td><td>1.0</td></tr><tr><td>hydroxychloroquine</td><td>0.37656688871206423</td><td>0.2025</td><td>0.028</td><td>0.377</td><td>0.003</td><td>0.04656242703929014</td></tr><tr><td>methotrexate</td><td>0.31608908443442524</td><td>0.1249</td><td>-0.066</td><td>0.316</td><td>0.468</td><td>1.0</td></tr><tr><td>leflunomide teriflunomide</td><td>0.2647887631988738</td><td>-0.7093</td><td>-1.154</td><td>-0.265</td><td>0.489</td><td>1.0</td></tr><tr><td>5-ASA</td><td>0.17129023936553398</td><td>-0.1047</td><td>-0.381</td><td>0.171</td><td>0.009</td><td>0.1249833567896735</td></tr><tr><td>azathioprine</td><td>0.8717023849698966</td><td>0.5261</td><td>0.18</td><td>0.872</td><td>0.83</td><td>1.0</td></tr><tr><td>mercaptopurine</td><td>0.4716681883906809</td><td>-0.2642</td><td>-1.0</td><td>0.472</td><td>0.172</td><td>1.0</td></tr><tr><td>mycophenolate</td><td>0.1643794454844671</td><td>-0.2946</td><td>-0.753</td><td>0.164</td><td>0.985</td><td>1.0</td></tr><tr><td>calcineurin inhibitor</td><td>0.10582097995383066</td><td>-0.326</td><td>-0.546</td><td>-0.106</td><td>0.359</td><td>1.0</td></tr><tr><td>TNF-α inhibitor</td><td>0.1336072128610467</td><td>-0.1487</td><td>-0.431</td><td>0.134</td><td>0.067</td><td>0.7071280586366863</td></tr><tr><td>fumarates</td><td>0.69065171987009</td><td>-0.4147</td><td>-1.52</td><td>0.691</td><td>0.746</td><td>1.0</td></tr><tr><td>interferons</td><td>2.2678977192591505</td><td>-0.0771</td><td>-2.422</td><td>2.268</td><td>0.998</td><td>1.0</td></tr><tr><td>alkylating agent</td><td>0.9013056730728854</td><td>0.0706</td><td>-0.76</td><td>0.901</td><td>0.763</td><td>1.0</td></tr><tr><td>hydroxyurea</td><td>0.8116498240398342</td><td>0.4046</td><td>-0.002</td><td>0.812</td><td>0.78</td><td>1.0</td></tr><tr><td>dapsone</td><td>1.936175522597753</td><td>1.4461</td><td>0.956</td><td>1.936</td><td>0.024</td><td>0.2753256555366721</td></tr><tr><td>IL-6 inhibitor</td><td>0.9441499814370787</td><td>0.3304</td><td>-0.283</td><td>0.944</td><td>0.722</td><td>1.0</td></tr><tr><td>IL-12/23 inhibitor</td><td>0.46855187281225075</td><td>-0.5117</td><td>-1.492</td><td>0.469</td><td>0.66</td><td>1.0</td></tr><tr><td>IL-17 inhibitor</td><td>0.6072305679424704</td><td>-0.4688</td><td>-1.545</td><td>0.607</td><td>0.736</td><td>1.0</td></tr><tr><td>IL-23 inhibitor</td><td>1.620161632857438</td><td>-0.125</td><td>-1.87</td><td>1.62</td><td>0.985</td><td>1.0</td></tr><tr><td>abatacept</td><td>0.756628639291147</td><td>0.2436</td><td>-0.269</td><td>0.757</td><td>0.812</td><td>1.0</td></tr><tr><td>S1P receptor modulator</td><td>1.1890539979479717</td><td>0.5885</td><td>-0.012</td><td>1.189</td><td>0.729</td><td>1.0</td></tr><tr><td>JAK inhibitor</td><td>0.022793964398395983</td><td>-0.5117</td><td>-1.001</td><td>-0.023</td><td>0.891</td><td>1.0</td></tr><tr><td>PDE4i targeted synthetic</td><td>1.1047225982888071</td><td>-0.0253</td><td>-1.155</td><td>1.105</td><td>0.864</td><td>1.0</td></tr><tr><td>anti-CD20</td><td>0.7741916980152993</td><td>-0.4208</td><td>-1.616</td><td>0.774</td><td>0.936</td><td>1.0</td></tr><tr><td>budesonide</td><td>0.3153872710299625</td><td>-0.5244</td><td>-0.734</td><td>-0.315</td><td>0.218</td><td>1.0</td></tr><tr><td>systemic glucocorticoids</td><td>0.05804989416605397</td><td>-0.0941</td><td>-0.13</td><td>-0.058</td><td>0.0</td><td>0.0</td></tr><tr><td>paxlovid</td><td>1.7592245589201752</td><td>-2.3527</td><td>-2.946</td><td>-1.759</td><td>0.161</td><td>1.0</td></tr></tbody></table></div>"
      ]
     },
     "metadata": {
      "application/vnd.databricks.v1+output": {
       "addedWidgets": {},
       "aggData": [],
       "aggError": "",
       "aggOverflow": false,
       "aggSchema": [],
       "aggSeriesLimitReached": false,
       "aggType": "",
       "arguments": {},
       "columnCustomDisplayInfos": {},
       "data": [
        [
         "age",
         0.7827855099512444,
         0.7508,
         0.719,
         0.783,
         0.0,
         0.0
        ],
        [
         "BMI",
         1.9861136224089069,
         -0.5792,
         -3.144,
         1.986,
         0.417,
         1.0
        ],
        [
         "sex:male",
         0.23809592688683057,
         -0.2565,
         -0.275,
         -0.238,
         0.0,
         0.0
        ],
        [
         "hypertension",
         0.14758406960181567,
         -0.1728,
         -0.198,
         -0.148,
         0.0,
         0.0
        ],
        [
         "diabetes (type 1+2)",
         0.2093873217088023,
         0.1801,
         0.151,
         0.209,
         0.006,
         0.0879512510742147
        ],
        [
         "atrial fibrillation",
         0.8069547917738142,
         0.7726,
         0.738,
         0.807,
         0.0,
         0.0
        ],
        [
         "coronary artery disease",
         0.36309202749621705,
         0.3275,
         0.292,
         0.363,
         0.0,
         0.0
        ],
        [
         "heart failure",
         0.9492697305717004,
         0.9142,
         0.879,
         0.949,
         0.0,
         0.0
        ],
        [
         "chronic kidney disease",
         0.7337148000109475,
         0.7014,
         0.669,
         0.734,
         0.0,
         0.0
        ],
        [
         "COPD",
         0.7250482265047398,
         0.6872,
         0.649,
         0.725,
         0.0,
         0.0
        ],
        [
         "chronic liver disease",
         1.0883630845071368,
         1.0282,
         0.968,
         1.088,
         0.0,
         0.0
        ],
        [
         "malignant neoplastic disease",
         0.6189270898216965,
         0.5912,
         0.563,
         0.619,
         0.0,
         0.0
        ],
        [
         "HIV",
         0.3570760146081525,
         0.1789,
         0.001,
         0.357,
         0.413,
         1.0
        ],
        [
         "history of transplant",
         0.5194019255470264,
         0.3236,
         0.128,
         0.519,
         0.304,
         1.0
        ],
        [
         "stroke",
         0.7961678478865322,
         0.7495,
         0.703,
         0.796,
         0.0,
         0.0
        ],
        [
         "opioid dependence",
         0.1986848134801152,
         0.1335,
         0.068,
         0.199,
         0.024,
         0.2753256555366721
        ],
        [
         "fully vaccinated",
         1.0389855103660437,
         -1.0625,
         -1.086,
         -1.039,
         0.0,
         0.0
        ],
        [
         "boosted",
         1.1597067444912081,
         -1.1861,
         -1.213,
         -1.16,
         0.0,
         0.0
        ],
        [
         "asthma",
         0.8363324868396791,
         -0.8701,
         -0.904,
         -0.836,
         0.0,
         0.0
        ],
        [
         "inflammatory bowel disease",
         0.41964802785519584,
         0.3267,
         0.234,
         0.42,
         0.695,
         1.0
        ],
        [
         "rheumatoid arthritis",
         0.2894792591010161,
         0.2119,
         0.134,
         0.289,
         0.25,
         1.0
        ],
        [
         "multiple sclerosis",
         0.4210987463428439,
         0.2953,
         0.169,
         0.421,
         0.421,
         1.0
        ],
        [
         "psoriatic arthritis",
         1.5486663535668665,
         -1.7874,
         -2.026,
         -1.549,
         0.01,
         0.13192687661132207
        ],
        [
         "psoriasis",
         0.13525141955941156,
         -0.2184,
         -0.301,
         -0.135,
         0.026,
         0.28584156599119775
        ],
        [
         "systemic sclerosis",
         0.09173518854978407,
         -0.4448,
         -0.798,
         -0.092,
         0.351,
         1.0
        ],
        [
         "spondyloarthritis",
         0.9433851351312075,
         -1.0531,
         -1.163,
         -0.943,
         0.011,
         0.1382091088309088
        ],
        [
         "systemic lupus",
         0.07983722233255403,
         -0.2153,
         -0.351,
         -0.08,
         0.001,
         0.016490859576415256
        ],
        [
         "vasculitis",
         0.7391090505191497,
         0.5436,
         0.348,
         0.739,
         0.51,
         1.0
        ],
        [
         "sarcoidosis",
         0.05688519545116219,
         -0.1371,
         -0.331,
         0.057,
         0.891,
         1.0
        ],
        [
         "antiphospholipid syndrome",
         0.409637408150924,
         -0.6928,
         -0.976,
         -0.41,
         0.076,
         0.7712648171123443
        ],
        [
         "Sjögren syndrome",
         0.10785914775949884,
         -0.3011,
         -0.494,
         -0.108,
         0.135,
         1.0
        ],
        [
         "hydroxychloroquine",
         0.37656688871206423,
         0.2025,
         0.028,
         0.377,
         0.003,
         0.04656242703929014
        ],
        [
         "methotrexate",
         0.31608908443442524,
         0.1249,
         -0.066,
         0.316,
         0.468,
         1.0
        ],
        [
         "leflunomide teriflunomide",
         0.2647887631988738,
         -0.7093,
         -1.154,
         -0.265,
         0.489,
         1.0
        ],
        [
         "5-ASA",
         0.17129023936553398,
         -0.1047,
         -0.381,
         0.171,
         0.009,
         0.1249833567896735
        ],
        [
         "azathioprine",
         0.8717023849698966,
         0.5261,
         0.18,
         0.872,
         0.83,
         1.0
        ],
        [
         "mercaptopurine",
         0.4716681883906809,
         -0.2642,
         -1.0,
         0.472,
         0.172,
         1.0
        ],
        [
         "mycophenolate",
         0.1643794454844671,
         -0.2946,
         -0.753,
         0.164,
         0.985,
         1.0
        ],
        [
         "calcineurin inhibitor",
         0.10582097995383066,
         -0.326,
         -0.546,
         -0.106,
         0.359,
         1.0
        ],
        [
         "TNF-α inhibitor",
         0.1336072128610467,
         -0.1487,
         -0.431,
         0.134,
         0.067,
         0.7071280586366863
        ],
        [
         "fumarates",
         0.69065171987009,
         -0.4147,
         -1.52,
         0.691,
         0.746,
         1.0
        ],
        [
         "interferons",
         2.2678977192591505,
         -0.0771,
         -2.422,
         2.268,
         0.998,
         1.0
        ],
        [
         "alkylating agent",
         0.9013056730728854,
         0.0706,
         -0.76,
         0.901,
         0.763,
         1.0
        ],
        [
         "hydroxyurea",
         0.8116498240398342,
         0.4046,
         -0.002,
         0.812,
         0.78,
         1.0
        ],
        [
         "dapsone",
         1.936175522597753,
         1.4461,
         0.956,
         1.936,
         0.024,
         0.2753256555366721
        ],
        [
         "IL-6 inhibitor",
         0.9441499814370787,
         0.3304,
         -0.283,
         0.944,
         0.722,
         1.0
        ],
        [
         "IL-12/23 inhibitor",
         0.46855187281225075,
         -0.5117,
         -1.492,
         0.469,
         0.66,
         1.0
        ],
        [
         "IL-17 inhibitor",
         0.6072305679424704,
         -0.4688,
         -1.545,
         0.607,
         0.736,
         1.0
        ],
        [
         "IL-23 inhibitor",
         1.620161632857438,
         -0.125,
         -1.87,
         1.62,
         0.985,
         1.0
        ],
        [
         "abatacept",
         0.756628639291147,
         0.2436,
         -0.269,
         0.757,
         0.812,
         1.0
        ],
        [
         "S1P receptor modulator",
         1.1890539979479717,
         0.5885,
         -0.012,
         1.189,
         0.729,
         1.0
        ],
        [
         "JAK inhibitor",
         0.022793964398395983,
         -0.5117,
         -1.001,
         -0.023,
         0.891,
         1.0
        ],
        [
         "PDE4i targeted synthetic",
         1.1047225982888071,
         -0.0253,
         -1.155,
         1.105,
         0.864,
         1.0
        ],
        [
         "anti-CD20",
         0.7741916980152993,
         -0.4208,
         -1.616,
         0.774,
         0.936,
         1.0
        ],
        [
         "budesonide",
         0.3153872710299625,
         -0.5244,
         -0.734,
         -0.315,
         0.218,
         1.0
        ],
        [
         "systemic glucocorticoids",
         0.05804989416605397,
         -0.0941,
         -0.13,
         -0.058,
         0.0,
         0.0
        ],
        [
         "paxlovid",
         1.7592245589201752,
         -2.3527,
         -2.946,
         -1.759,
         0.161,
         1.0
        ]
       ],
       "datasetInfos": [],
       "dbfsResultPath": null,
       "isJsonSchema": true,
       "metadata": {},
       "overflow": false,
       "plotOptions": {
        "customPlotOptions": {},
        "displayType": "table",
        "pivotAggregation": null,
        "pivotColumns": null,
        "xColumns": null,
        "yColumns": null
       },
       "removedWidgets": [],
       "schema": [
        {
         "metadata": "{}",
         "name": "Feature",
         "type": "\"string\""
        },
        {
         "metadata": "{}",
         "name": "Feature Importance",
         "type": "\"double\""
        },
        {
         "metadata": "{}",
         "name": "Odds ratio",
         "type": "\"double\""
        },
        {
         "metadata": "{}",
         "name": "lower",
         "type": "\"double\""
        },
        {
         "metadata": "{}",
         "name": "upper",
         "type": "\"double\""
        },
        {
         "metadata": "{}",
         "name": "Pvalue",
         "type": "\"double\""
        },
        {
         "metadata": "{}",
         "name": "Pvalue_FDR_corrected",
         "type": "\"double\""
        }
       ],
       "type": "table"
      }
     },
     "output_type": "display_data"
    }
   ],
   "source": [
    "IMV_death_result_df, os_LR_statmodel = multivariate_LR_model_result(os_data_X, os_data_y, X_train, y_train, opt_method)\n",
    "display(IMV_death_result_df)"
   ]
  },
  {
   "cell_type": "code",
   "execution_count": 0,
   "metadata": {
    "application/vnd.databricks.v1+cell": {
     "cellMetadata": {
      "byteLimit": 2048000,
      "rowLimit": 10000
     },
     "inputWidgets": {},
     "nuid": "5583f2cf-9a21-486d-8bd6-757a47336c88",
     "showTitle": false,
     "title": ""
    }
   },
   "outputs": [
    {
     "output_type": "stream",
     "name": "stdout",
     "output_type": "stream",
     "text": [
      "Auroc on test data set: 0.76504\n"
     ]
    }
   ],
   "source": [
    "from sklearn.metrics import roc_auc_score\n",
    "LR_model_binaryclass_auroc = binary_class_roc_auc_score(y_test, os_LR_statmodel.predict(X_test))\n",
    "\n",
    "print(\"Auroc on test data set: %0.5f\" % (LR_model_binaryclass_auroc))"
   ]
  },
  {
   "cell_type": "code",
   "execution_count": 0,
   "metadata": {
    "application/vnd.databricks.v1+cell": {
     "cellMetadata": {
      "byteLimit": 2048000,
      "rowLimit": 10000
     },
     "inputWidgets": {},
     "nuid": "5c8cc9ca-3748-4f65-8135-c675315628a8",
     "showTitle": false,
     "title": ""
    }
   },
   "outputs": [],
   "source": []
  }
 ],
 "metadata": {
  "application/vnd.databricks.v1+notebook": {
   "dashboards": [],
   "language": "python",
   "notebookMetadata": {
    "pythonIndentUnit": 2
   },
   "notebookName": "Step3.1.1.multi_LR_analysis_add_Paxlovid",
   "widgets": {}
  }
 },
 "nbformat": 4,
 "nbformat_minor": 0
}
